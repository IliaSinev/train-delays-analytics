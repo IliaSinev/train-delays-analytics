{
 "cells": [
  {
   "cell_type": "code",
   "execution_count": 1,
   "metadata": {},
   "outputs": [],
   "source": [
    "import pandas as pd"
   ]
  },
  {
   "cell_type": "code",
   "execution_count": 2,
   "metadata": {},
   "outputs": [],
   "source": [
    "df1 = pd.read_csv('All Delays 2018-19.csv')"
   ]
  },
  {
   "cell_type": "code",
   "execution_count": 4,
   "metadata": {},
   "outputs": [
    {
     "data": {
      "text/plain": [
       "(490318, 39)"
      ]
     },
     "execution_count": 4,
     "metadata": {},
     "output_type": "execute_result"
    }
   ],
   "source": [
    "df1.shape"
   ]
  },
  {
   "cell_type": "code",
   "execution_count": 5,
   "metadata": {},
   "outputs": [],
   "source": [
    "df2 = pd.read_csv('All delays 2021-22 P10.csv')"
   ]
  },
  {
   "cell_type": "code",
   "execution_count": 6,
   "metadata": {},
   "outputs": [
    {
     "data": {
      "text/plain": [
       "(299459, 40)"
      ]
     },
     "execution_count": 6,
     "metadata": {},
     "output_type": "execute_result"
    }
   ],
   "source": [
    "df2.shape"
   ]
  },
  {
   "cell_type": "code",
   "execution_count": 9,
   "metadata": {},
   "outputs": [
    {
     "name": "stdout",
     "output_type": "stream",
     "text": [
      "Columns in 18-19: Index(['FINANCIAL_YEAR_AND_PERIOD', 'ORIGIN_DEPARTURE_DATE',\n",
      "       'TRUST_TRAIN_ID_AFFECTED', 'PLANNED_ORIG_LOC_CODE_AFF',\n",
      "       'PLANNED_ORIG_GBTT_DATETIME_AFF', 'PLANNED_ORIG_WTT_DATETIME_AFF',\n",
      "       'PLANNED_DEST_LOC_CODE_AFFECTED', 'PLANNED_DEST_GBTT_DATETIME_AFF',\n",
      "       'PLANNED_DEST_WTT_DATETIME_AFF', 'TRAIN_SERVICE_CODE_AFFECTED',\n",
      "       'SERVICE_GROUP_CODE_AFFECTED', 'OPERATOR_AFFECTED', 'ENGLISH_DAY_TYPE',\n",
      "       'APP_TIMETABLE_FLAG_AFF', 'TRAIN_SCHEDULE_TYPE_AFFECTED',\n",
      "       'TRACTION_TYPE_AFFECTED', 'TRAILING_LOAD_AFFECTED',\n",
      "       'TIMING_LOAD_AFFECTED', 'UNIT_CLASS_AFFECTED', 'INCIDENT_NUMBER',\n",
      "       'INCIDENT_CREATE_DATE', 'INCIDENT_START_DATETIME',\n",
      "       'INCIDENT_END_DATETIME', 'SECTION_CODE',\n",
      "       'NETWORK_RAIL_LOCATION_MANAGER', 'RESPONSIBLE_MANAGER',\n",
      "       'INCIDENT_REASON', 'ATTRIBUTION_STATUS', 'INCIDENT_EQUIPMENT',\n",
      "       'INCIDENT_DESCRIPTION', 'REACTIONARY_REASON_CODE',\n",
      "       'INCIDENT_RESPONSIBLE_TRAIN', 'PERFORMANCE_EVENT_CODE', 'START_STANOX',\n",
      "       'END_STANOX', 'EVENT_DATETIME', 'PFPI_MINUTES', 'TRUST_TRAIN_ID_RESP',\n",
      "       'TRUST_TRAIN_ID_REACT'],\n",
      "      dtype='object') /n Columns in 21-22: Index(['FINANCIAL_YEAR_PERIOD', 'ORIGIN_DEPARTURE_DATE', 'TRUST_TRAIN_ID',\n",
      "       'PLANNED_ORIGIN_LOCATION_CODE', 'PLANNED_ORIGIN_WTT_DATETIME',\n",
      "       'PLANNED_ORIGIN_GBTT_DATETIME', 'PLANNED_DEST_LOCATION_CODE',\n",
      "       'PLANNED_DEST_WTT_DATETIME', 'PLANNED_DEST_GBTT_DATETIME',\n",
      "       'TRAIN_SERVICE_CODE', 'SERVICE_GROUP_CODE', 'TOC_CODE',\n",
      "       'ENGLISH_DAY_TYPE', 'APPLICABLE_TIMETABLE_FLAG', 'TRAIN_SCHEDULE_TYPE',\n",
      "       'TRACTION_TYPE', 'TRAILING_LOAD', 'TIMING_LOAD', 'UNIT_CLASS',\n",
      "       'INCIDENT_NUMBER', 'INCIDENT_CREATE_DATE', 'INCIDENT_START_DATETIME',\n",
      "       'INCIDENT_END_DATETIME', 'SECTION_CODE', 'NR_LOCATION_MANAGER',\n",
      "       'RESPONSIBLE_MANAGER', 'INCIDENT_REASON', 'ATTRIBUTION_STATUS',\n",
      "       'INCIDENT_EQUIPMENT', 'INCIDENT_DESCRIPTION', 'REACT_REASON',\n",
      "       'INCIDENT_RESP_TRAIN', 'RESP_TRAIN', 'REACT_TRAIN', 'EVENT_TYPE',\n",
      "       'START_STANOX', 'END_STANOX', 'EVENT_DATETIME', 'PFPI_MINUTES',\n",
      "       'NON_PFPI_MINUTES'],\n",
      "      dtype='object')\n"
     ]
    }
   ],
   "source": [
    "print(f'Columns in 18-19: {df1.columns} /n Columns in 21-22: {df2.columns}')"
   ]
  },
  {
   "cell_type": "code",
   "execution_count": 10,
   "metadata": {},
   "outputs": [],
   "source": [
    "df = df1.append(df1, ignore_index=True)"
   ]
  },
  {
   "cell_type": "code",
   "execution_count": 11,
   "metadata": {},
   "outputs": [
    {
     "data": {
      "text/plain": [
       "(980636, 39)"
      ]
     },
     "execution_count": 11,
     "metadata": {},
     "output_type": "execute_result"
    }
   ],
   "source": [
    "df.shape"
   ]
  },
  {
   "cell_type": "code",
   "execution_count": 13,
   "metadata": {},
   "outputs": [
    {
     "name": "stdout",
     "output_type": "stream",
     "text": [
      "<class 'pandas.core.frame.DataFrame'>\n",
      "RangeIndex: 490318 entries, 0 to 490317\n",
      "Data columns (total 39 columns):\n",
      " #   Column                          Non-Null Count   Dtype  \n",
      "---  ------                          --------------   -----  \n",
      " 0   FINANCIAL_YEAR_AND_PERIOD       490318 non-null  object \n",
      " 1   ORIGIN_DEPARTURE_DATE           490318 non-null  object \n",
      " 2   TRUST_TRAIN_ID_AFFECTED         490318 non-null  object \n",
      " 3   PLANNED_ORIG_LOC_CODE_AFF       490318 non-null  int64  \n",
      " 4   PLANNED_ORIG_GBTT_DATETIME_AFF  366415 non-null  object \n",
      " 5   PLANNED_ORIG_WTT_DATETIME_AFF   490318 non-null  object \n",
      " 6   PLANNED_DEST_LOC_CODE_AFFECTED  490318 non-null  int64  \n",
      " 7   PLANNED_DEST_GBTT_DATETIME_AFF  366415 non-null  object \n",
      " 8   PLANNED_DEST_WTT_DATETIME_AFF   490318 non-null  object \n",
      " 9   TRAIN_SERVICE_CODE_AFFECTED     490291 non-null  float64\n",
      " 10  SERVICE_GROUP_CODE_AFFECTED     490291 non-null  object \n",
      " 11  OPERATOR_AFFECTED               490291 non-null  object \n",
      " 12  ENGLISH_DAY_TYPE                490318 non-null  object \n",
      " 13  APP_TIMETABLE_FLAG_AFF          490318 non-null  object \n",
      " 14  TRAIN_SCHEDULE_TYPE_AFFECTED    490318 non-null  object \n",
      " 15  TRACTION_TYPE_AFFECTED          485188 non-null  object \n",
      " 16  TRAILING_LOAD_AFFECTED          56039 non-null   float64\n",
      " 17  TIMING_LOAD_AFFECTED            132349 non-null  object \n",
      " 18  UNIT_CLASS_AFFECTED             89026 non-null   float64\n",
      " 19  INCIDENT_NUMBER                 490318 non-null  int64  \n",
      " 20  INCIDENT_CREATE_DATE            490318 non-null  object \n",
      " 21  INCIDENT_START_DATETIME         490318 non-null  object \n",
      " 22  INCIDENT_END_DATETIME           490318 non-null  object \n",
      " 23  SECTION_CODE                    490318 non-null  object \n",
      " 24  NETWORK_RAIL_LOCATION_MANAGER   490318 non-null  object \n",
      " 25  RESPONSIBLE_MANAGER             490318 non-null  object \n",
      " 26  INCIDENT_REASON                 489939 non-null  object \n",
      " 27  ATTRIBUTION_STATUS              490318 non-null  object \n",
      " 28  INCIDENT_EQUIPMENT              247771 non-null  object \n",
      " 29  INCIDENT_DESCRIPTION            490318 non-null  object \n",
      " 30  REACTIONARY_REASON_CODE         300008 non-null  object \n",
      " 31  INCIDENT_RESPONSIBLE_TRAIN      224342 non-null  object \n",
      " 32  PERFORMANCE_EVENT_CODE          490318 non-null  object \n",
      " 33  START_STANOX                    490318 non-null  int64  \n",
      " 34  END_STANOX                      490318 non-null  int64  \n",
      " 35  EVENT_DATETIME                  490318 non-null  object \n",
      " 36  PFPI_MINUTES                    490318 non-null  float64\n",
      " 37  TRUST_TRAIN_ID_RESP             209564 non-null  object \n",
      " 38  TRUST_TRAIN_ID_REACT            207675 non-null  object \n",
      "dtypes: float64(4), int64(5), object(30)\n",
      "memory usage: 145.9+ MB\n"
     ]
    }
   ],
   "source": [
    "df1.info()"
   ]
  },
  {
   "cell_type": "code",
   "execution_count": null,
   "metadata": {},
   "outputs": [],
   "source": []
  }
 ],
 "metadata": {
  "kernelspec": {
   "display_name": "Python 3",
   "language": "python",
   "name": "python3"
  },
  "language_info": {
   "codemirror_mode": {
    "name": "ipython",
    "version": 3
   },
   "file_extension": ".py",
   "mimetype": "text/x-python",
   "name": "python",
   "nbconvert_exporter": "python",
   "pygments_lexer": "ipython3",
   "version": "3.7.11"
  }
 },
 "nbformat": 4,
 "nbformat_minor": 4
}
