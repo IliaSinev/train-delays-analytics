{
 "cells": [
  {
   "cell_type": "code",
   "execution_count": 10,
   "metadata": {},
   "outputs": [],
   "source": [
    "import pandas as pd"
   ]
  },
  {
   "cell_type": "code",
   "execution_count": 7,
   "metadata": {},
   "outputs": [],
   "source": [
    "df1 = pd.read_csv('All Delays 2018-19.csv')"
   ]
  },
  {
   "cell_type": "code",
   "execution_count": 8,
   "metadata": {},
   "outputs": [
    {
     "data": {
      "text/plain": [
       "Index(['FINANCIAL_YEAR_AND_PERIOD', 'ORIGIN_DEPARTURE_DATE',\n",
       "       'TRUST_TRAIN_ID_AFFECTED', 'PLANNED_ORIG_LOC_CODE_AFF',\n",
       "       'PLANNED_ORIG_GBTT_DATETIME_AFF', 'PLANNED_ORIG_WTT_DATETIME_AFF',\n",
       "       'PLANNED_DEST_LOC_CODE_AFFECTED', 'PLANNED_DEST_GBTT_DATETIME_AFF',\n",
       "       'PLANNED_DEST_WTT_DATETIME_AFF', 'TRAIN_SERVICE_CODE_AFFECTED',\n",
       "       'SERVICE_GROUP_CODE_AFFECTED', 'OPERATOR_AFFECTED', 'ENGLISH_DAY_TYPE',\n",
       "       'APP_TIMETABLE_FLAG_AFF', 'TRAIN_SCHEDULE_TYPE_AFFECTED',\n",
       "       'TRACTION_TYPE_AFFECTED', 'TRAILING_LOAD_AFFECTED',\n",
       "       'TIMING_LOAD_AFFECTED', 'UNIT_CLASS_AFFECTED', 'INCIDENT_NUMBER',\n",
       "       'INCIDENT_CREATE_DATE', 'INCIDENT_START_DATETIME',\n",
       "       'INCIDENT_END_DATETIME', 'SECTION_CODE',\n",
       "       'NETWORK_RAIL_LOCATION_MANAGER', 'RESPONSIBLE_MANAGER',\n",
       "       'INCIDENT_REASON', 'ATTRIBUTION_STATUS', 'INCIDENT_EQUIPMENT',\n",
       "       'INCIDENT_DESCRIPTION', 'REACTIONARY_REASON_CODE',\n",
       "       'INCIDENT_RESPONSIBLE_TRAIN', 'PERFORMANCE_EVENT_CODE', 'START_STANOX',\n",
       "       'END_STANOX', 'EVENT_DATETIME', 'PFPI_MINUTES', 'TRUST_TRAIN_ID_RESP',\n",
       "       'TRUST_TRAIN_ID_REACT'],\n",
       "      dtype='object')"
      ]
     },
     "execution_count": 8,
     "metadata": {},
     "output_type": "execute_result"
    }
   ],
   "source": [
    "df1.columns"
   ]
  },
  {
   "cell_type": "code",
   "execution_count": 11,
   "metadata": {},
   "outputs": [
    {
     "data": {
      "text/html": [
       "<div>\n",
       "<style scoped>\n",
       "    .dataframe tbody tr th:only-of-type {\n",
       "        vertical-align: middle;\n",
       "    }\n",
       "\n",
       "    .dataframe tbody tr th {\n",
       "        vertical-align: top;\n",
       "    }\n",
       "\n",
       "    .dataframe thead th {\n",
       "        text-align: right;\n",
       "    }\n",
       "</style>\n",
       "<table border=\"1\" class=\"dataframe\">\n",
       "  <thead>\n",
       "    <tr style=\"text-align: right;\">\n",
       "      <th></th>\n",
       "      <th>FINANCIAL_YEAR_AND_PERIOD</th>\n",
       "      <th>ORIGIN_DEPARTURE_DATE</th>\n",
       "      <th>TRUST_TRAIN_ID_AFFECTED</th>\n",
       "      <th>PLANNED_ORIG_LOC_CODE_AFF</th>\n",
       "      <th>PLANNED_ORIG_GBTT_DATETIME_AFF</th>\n",
       "      <th>PLANNED_ORIG_WTT_DATETIME_AFF</th>\n",
       "      <th>PLANNED_DEST_LOC_CODE_AFFECTED</th>\n",
       "      <th>PLANNED_DEST_GBTT_DATETIME_AFF</th>\n",
       "      <th>PLANNED_DEST_WTT_DATETIME_AFF</th>\n",
       "      <th>TRAIN_SERVICE_CODE_AFFECTED</th>\n",
       "      <th>...</th>\n",
       "      <th>INCIDENT_DESCRIPTION</th>\n",
       "      <th>REACTIONARY_REASON_CODE</th>\n",
       "      <th>INCIDENT_RESPONSIBLE_TRAIN</th>\n",
       "      <th>PERFORMANCE_EVENT_CODE</th>\n",
       "      <th>START_STANOX</th>\n",
       "      <th>END_STANOX</th>\n",
       "      <th>EVENT_DATETIME</th>\n",
       "      <th>PFPI_MINUTES</th>\n",
       "      <th>TRUST_TRAIN_ID_RESP</th>\n",
       "      <th>TRUST_TRAIN_ID_REACT</th>\n",
       "    </tr>\n",
       "  </thead>\n",
       "  <tbody>\n",
       "    <tr>\n",
       "      <th>0</th>\n",
       "      <td>2018/19_P01</td>\n",
       "      <td>01-APR-18</td>\n",
       "      <td>011B44MN01</td>\n",
       "      <td>1100</td>\n",
       "      <td>01-APR-2018 13:30</td>\n",
       "      <td>01-APR-2018 13:30</td>\n",
       "      <td>4303</td>\n",
       "      <td>01-APR-2018 16:50</td>\n",
       "      <td>01-APR-2018 16:50</td>\n",
       "      <td>23549003.0</td>\n",
       "      <td>...</td>\n",
       "      <td>1H45 LOST PTH DLW</td>\n",
       "      <td>YE</td>\n",
       "      <td>1H45</td>\n",
       "      <td>M</td>\n",
       "      <td>1100</td>\n",
       "      <td>1144</td>\n",
       "      <td>01-APR-2018 14:12</td>\n",
       "      <td>6.0</td>\n",
       "      <td>041H45MF01</td>\n",
       "      <td>061H09MI01</td>\n",
       "    </tr>\n",
       "    <tr>\n",
       "      <th>1</th>\n",
       "      <td>2018/19_P01</td>\n",
       "      <td>01-APR-18</td>\n",
       "      <td>011E17MF01</td>\n",
       "      <td>1100</td>\n",
       "      <td>01-APR-2018 09:40</td>\n",
       "      <td>01-APR-2018 09:40</td>\n",
       "      <td>54311</td>\n",
       "      <td>01-APR-2018 17:51</td>\n",
       "      <td>01-APR-2018 17:51</td>\n",
       "      <td>21701001.0</td>\n",
       "      <td>...</td>\n",
       "      <td>YRK AU TC FLR</td>\n",
       "      <td>YP</td>\n",
       "      <td>NaN</td>\n",
       "      <td>M</td>\n",
       "      <td>16005</td>\n",
       "      <td>16421</td>\n",
       "      <td>01-APR-2018 16:02</td>\n",
       "      <td>7.0</td>\n",
       "      <td>NaN</td>\n",
       "      <td>041E97MM01</td>\n",
       "    </tr>\n",
       "    <tr>\n",
       "      <th>2</th>\n",
       "      <td>2018/19_P01</td>\n",
       "      <td>01-APR-18</td>\n",
       "      <td>011M16MZ01</td>\n",
       "      <td>1100</td>\n",
       "      <td>01-APR-2018 20:26</td>\n",
       "      <td>01-APR-2018 20:26</td>\n",
       "      <td>72410</td>\n",
       "      <td>02-APR-2018 09:17</td>\n",
       "      <td>02-APR-2018 09:15</td>\n",
       "      <td>23558003.0</td>\n",
       "      <td>...</td>\n",
       "      <td>1M11 LOSS OF POWER GLQ LNZ</td>\n",
       "      <td>YD</td>\n",
       "      <td>NaN</td>\n",
       "      <td>M</td>\n",
       "      <td>4303</td>\n",
       "      <td>4303</td>\n",
       "      <td>02-APR-2018 01:58</td>\n",
       "      <td>50.0</td>\n",
       "      <td>NaN</td>\n",
       "      <td>061M11M701</td>\n",
       "    </tr>\n",
       "    <tr>\n",
       "      <th>3</th>\n",
       "      <td>2018/19_P01</td>\n",
       "      <td>01-APR-18</td>\n",
       "      <td>011M16MZ01</td>\n",
       "      <td>1100</td>\n",
       "      <td>01-APR-2018 20:26</td>\n",
       "      <td>01-APR-2018 20:26</td>\n",
       "      <td>72410</td>\n",
       "      <td>02-APR-2018 09:17</td>\n",
       "      <td>02-APR-2018 09:15</td>\n",
       "      <td>23558003.0</td>\n",
       "      <td>...</td>\n",
       "      <td>1M16 OVERTIME NCL</td>\n",
       "      <td>NaN</td>\n",
       "      <td>1M16</td>\n",
       "      <td>M</td>\n",
       "      <td>12931</td>\n",
       "      <td>12931</td>\n",
       "      <td>02-APR-2018 03:43</td>\n",
       "      <td>3.0</td>\n",
       "      <td>011M16MZ01</td>\n",
       "      <td>NaN</td>\n",
       "    </tr>\n",
       "    <tr>\n",
       "      <th>4</th>\n",
       "      <td>2018/19_P01</td>\n",
       "      <td>01-APR-18</td>\n",
       "      <td>011T80ML01</td>\n",
       "      <td>1100</td>\n",
       "      <td>01-APR-2018 12:44</td>\n",
       "      <td>01-APR-2018 12:44</td>\n",
       "      <td>6401</td>\n",
       "      <td>01-APR-2018 15:58</td>\n",
       "      <td>01-APR-2018 15:58</td>\n",
       "      <td>23549003.0</td>\n",
       "      <td>...</td>\n",
       "      <td>1H45 LOST PTH DLW</td>\n",
       "      <td>YE</td>\n",
       "      <td>1H45</td>\n",
       "      <td>M</td>\n",
       "      <td>1100</td>\n",
       "      <td>1144</td>\n",
       "      <td>01-APR-2018 13:31</td>\n",
       "      <td>7.0</td>\n",
       "      <td>041H45MF01</td>\n",
       "      <td>041H45MF01</td>\n",
       "    </tr>\n",
       "  </tbody>\n",
       "</table>\n",
       "<p>5 rows × 39 columns</p>\n",
       "</div>"
      ],
      "text/plain": [
       "  FINANCIAL_YEAR_AND_PERIOD ORIGIN_DEPARTURE_DATE TRUST_TRAIN_ID_AFFECTED  \\\n",
       "0               2018/19_P01             01-APR-18              011B44MN01   \n",
       "1               2018/19_P01             01-APR-18              011E17MF01   \n",
       "2               2018/19_P01             01-APR-18              011M16MZ01   \n",
       "3               2018/19_P01             01-APR-18              011M16MZ01   \n",
       "4               2018/19_P01             01-APR-18              011T80ML01   \n",
       "\n",
       "   PLANNED_ORIG_LOC_CODE_AFF PLANNED_ORIG_GBTT_DATETIME_AFF  \\\n",
       "0                       1100              01-APR-2018 13:30   \n",
       "1                       1100              01-APR-2018 09:40   \n",
       "2                       1100              01-APR-2018 20:26   \n",
       "3                       1100              01-APR-2018 20:26   \n",
       "4                       1100              01-APR-2018 12:44   \n",
       "\n",
       "  PLANNED_ORIG_WTT_DATETIME_AFF  PLANNED_DEST_LOC_CODE_AFFECTED  \\\n",
       "0             01-APR-2018 13:30                            4303   \n",
       "1             01-APR-2018 09:40                           54311   \n",
       "2             01-APR-2018 20:26                           72410   \n",
       "3             01-APR-2018 20:26                           72410   \n",
       "4             01-APR-2018 12:44                            6401   \n",
       "\n",
       "  PLANNED_DEST_GBTT_DATETIME_AFF PLANNED_DEST_WTT_DATETIME_AFF  \\\n",
       "0              01-APR-2018 16:50             01-APR-2018 16:50   \n",
       "1              01-APR-2018 17:51             01-APR-2018 17:51   \n",
       "2              02-APR-2018 09:17             02-APR-2018 09:15   \n",
       "3              02-APR-2018 09:17             02-APR-2018 09:15   \n",
       "4              01-APR-2018 15:58             01-APR-2018 15:58   \n",
       "\n",
       "   TRAIN_SERVICE_CODE_AFFECTED  ...        INCIDENT_DESCRIPTION  \\\n",
       "0                   23549003.0  ...           1H45 LOST PTH DLW   \n",
       "1                   21701001.0  ...               YRK AU TC FLR   \n",
       "2                   23558003.0  ...  1M11 LOSS OF POWER GLQ LNZ   \n",
       "3                   23558003.0  ...           1M16 OVERTIME NCL   \n",
       "4                   23549003.0  ...           1H45 LOST PTH DLW   \n",
       "\n",
       "  REACTIONARY_REASON_CODE INCIDENT_RESPONSIBLE_TRAIN PERFORMANCE_EVENT_CODE  \\\n",
       "0                      YE                       1H45                      M   \n",
       "1                      YP                        NaN                      M   \n",
       "2                      YD                        NaN                      M   \n",
       "3                     NaN                       1M16                      M   \n",
       "4                      YE                       1H45                      M   \n",
       "\n",
       "  START_STANOX END_STANOX     EVENT_DATETIME PFPI_MINUTES  \\\n",
       "0         1100       1144  01-APR-2018 14:12          6.0   \n",
       "1        16005      16421  01-APR-2018 16:02          7.0   \n",
       "2         4303       4303  02-APR-2018 01:58         50.0   \n",
       "3        12931      12931  02-APR-2018 03:43          3.0   \n",
       "4         1100       1144  01-APR-2018 13:31          7.0   \n",
       "\n",
       "   TRUST_TRAIN_ID_RESP  TRUST_TRAIN_ID_REACT  \n",
       "0           041H45MF01            061H09MI01  \n",
       "1                  NaN            041E97MM01  \n",
       "2                  NaN            061M11M701  \n",
       "3           011M16MZ01                   NaN  \n",
       "4           041H45MF01            041H45MF01  \n",
       "\n",
       "[5 rows x 39 columns]"
      ]
     },
     "execution_count": 11,
     "metadata": {},
     "output_type": "execute_result"
    }
   ],
   "source": [
    "df1.head()"
   ]
  },
  {
   "cell_type": "code",
   "execution_count": 5,
   "metadata": {},
   "outputs": [],
   "source": [
    "df2 = pd.read_csv('All delays 2021-22 P10.csv')"
   ]
  },
  {
   "cell_type": "code",
   "execution_count": 6,
   "metadata": {},
   "outputs": [
    {
     "data": {
      "text/plain": [
       "(299459, 40)"
      ]
     },
     "execution_count": 6,
     "metadata": {},
     "output_type": "execute_result"
    }
   ],
   "source": [
    "df2.shape"
   ]
  },
  {
   "cell_type": "code",
   "execution_count": 9,
   "metadata": {},
   "outputs": [
    {
     "name": "stdout",
     "output_type": "stream",
     "text": [
      "Columns in 18-19: Index(['FINANCIAL_YEAR_AND_PERIOD', 'ORIGIN_DEPARTURE_DATE',\n",
      "       'TRUST_TRAIN_ID_AFFECTED', 'PLANNED_ORIG_LOC_CODE_AFF',\n",
      "       'PLANNED_ORIG_GBTT_DATETIME_AFF', 'PLANNED_ORIG_WTT_DATETIME_AFF',\n",
      "       'PLANNED_DEST_LOC_CODE_AFFECTED', 'PLANNED_DEST_GBTT_DATETIME_AFF',\n",
      "       'PLANNED_DEST_WTT_DATETIME_AFF', 'TRAIN_SERVICE_CODE_AFFECTED',\n",
      "       'SERVICE_GROUP_CODE_AFFECTED', 'OPERATOR_AFFECTED', 'ENGLISH_DAY_TYPE',\n",
      "       'APP_TIMETABLE_FLAG_AFF', 'TRAIN_SCHEDULE_TYPE_AFFECTED',\n",
      "       'TRACTION_TYPE_AFFECTED', 'TRAILING_LOAD_AFFECTED',\n",
      "       'TIMING_LOAD_AFFECTED', 'UNIT_CLASS_AFFECTED', 'INCIDENT_NUMBER',\n",
      "       'INCIDENT_CREATE_DATE', 'INCIDENT_START_DATETIME',\n",
      "       'INCIDENT_END_DATETIME', 'SECTION_CODE',\n",
      "       'NETWORK_RAIL_LOCATION_MANAGER', 'RESPONSIBLE_MANAGER',\n",
      "       'INCIDENT_REASON', 'ATTRIBUTION_STATUS', 'INCIDENT_EQUIPMENT',\n",
      "       'INCIDENT_DESCRIPTION', 'REACTIONARY_REASON_CODE',\n",
      "       'INCIDENT_RESPONSIBLE_TRAIN', 'PERFORMANCE_EVENT_CODE', 'START_STANOX',\n",
      "       'END_STANOX', 'EVENT_DATETIME', 'PFPI_MINUTES', 'TRUST_TRAIN_ID_RESP',\n",
      "       'TRUST_TRAIN_ID_REACT'],\n",
      "      dtype='object') /n Columns in 21-22: Index(['FINANCIAL_YEAR_PERIOD', 'ORIGIN_DEPARTURE_DATE', 'TRUST_TRAIN_ID',\n",
      "       'PLANNED_ORIGIN_LOCATION_CODE', 'PLANNED_ORIGIN_WTT_DATETIME',\n",
      "       'PLANNED_ORIGIN_GBTT_DATETIME', 'PLANNED_DEST_LOCATION_CODE',\n",
      "       'PLANNED_DEST_WTT_DATETIME', 'PLANNED_DEST_GBTT_DATETIME',\n",
      "       'TRAIN_SERVICE_CODE', 'SERVICE_GROUP_CODE', 'TOC_CODE',\n",
      "       'ENGLISH_DAY_TYPE', 'APPLICABLE_TIMETABLE_FLAG', 'TRAIN_SCHEDULE_TYPE',\n",
      "       'TRACTION_TYPE', 'TRAILING_LOAD', 'TIMING_LOAD', 'UNIT_CLASS',\n",
      "       'INCIDENT_NUMBER', 'INCIDENT_CREATE_DATE', 'INCIDENT_START_DATETIME',\n",
      "       'INCIDENT_END_DATETIME', 'SECTION_CODE', 'NR_LOCATION_MANAGER',\n",
      "       'RESPONSIBLE_MANAGER', 'INCIDENT_REASON', 'ATTRIBUTION_STATUS',\n",
      "       'INCIDENT_EQUIPMENT', 'INCIDENT_DESCRIPTION', 'REACT_REASON',\n",
      "       'INCIDENT_RESP_TRAIN', 'RESP_TRAIN', 'REACT_TRAIN', 'EVENT_TYPE',\n",
      "       'START_STANOX', 'END_STANOX', 'EVENT_DATETIME', 'PFPI_MINUTES',\n",
      "       'NON_PFPI_MINUTES'],\n",
      "      dtype='object')\n"
     ]
    }
   ],
   "source": [
    "print(f'Columns in 18-19: {df1.columns} /n Columns in 21-22: {df2.columns}')"
   ]
  },
  {
   "cell_type": "code",
   "execution_count": 10,
   "metadata": {},
   "outputs": [],
   "source": [
    "df = df1.append(df1, ignore_index=True)"
   ]
  },
  {
   "cell_type": "code",
   "execution_count": 11,
   "metadata": {},
   "outputs": [
    {
     "data": {
      "text/plain": [
       "(980636, 39)"
      ]
     },
     "execution_count": 11,
     "metadata": {},
     "output_type": "execute_result"
    }
   ],
   "source": [
    "df.shape"
   ]
  },
  {
   "cell_type": "code",
   "execution_count": 13,
   "metadata": {},
   "outputs": [
    {
     "name": "stdout",
     "output_type": "stream",
     "text": [
      "<class 'pandas.core.frame.DataFrame'>\n",
      "RangeIndex: 490318 entries, 0 to 490317\n",
      "Data columns (total 39 columns):\n",
      " #   Column                          Non-Null Count   Dtype  \n",
      "---  ------                          --------------   -----  \n",
      " 0   FINANCIAL_YEAR_AND_PERIOD       490318 non-null  object \n",
      " 1   ORIGIN_DEPARTURE_DATE           490318 non-null  object \n",
      " 2   TRUST_TRAIN_ID_AFFECTED         490318 non-null  object \n",
      " 3   PLANNED_ORIG_LOC_CODE_AFF       490318 non-null  int64  \n",
      " 4   PLANNED_ORIG_GBTT_DATETIME_AFF  366415 non-null  object \n",
      " 5   PLANNED_ORIG_WTT_DATETIME_AFF   490318 non-null  object \n",
      " 6   PLANNED_DEST_LOC_CODE_AFFECTED  490318 non-null  int64  \n",
      " 7   PLANNED_DEST_GBTT_DATETIME_AFF  366415 non-null  object \n",
      " 8   PLANNED_DEST_WTT_DATETIME_AFF   490318 non-null  object \n",
      " 9   TRAIN_SERVICE_CODE_AFFECTED     490291 non-null  float64\n",
      " 10  SERVICE_GROUP_CODE_AFFECTED     490291 non-null  object \n",
      " 11  OPERATOR_AFFECTED               490291 non-null  object \n",
      " 12  ENGLISH_DAY_TYPE                490318 non-null  object \n",
      " 13  APP_TIMETABLE_FLAG_AFF          490318 non-null  object \n",
      " 14  TRAIN_SCHEDULE_TYPE_AFFECTED    490318 non-null  object \n",
      " 15  TRACTION_TYPE_AFFECTED          485188 non-null  object \n",
      " 16  TRAILING_LOAD_AFFECTED          56039 non-null   float64\n",
      " 17  TIMING_LOAD_AFFECTED            132349 non-null  object \n",
      " 18  UNIT_CLASS_AFFECTED             89026 non-null   float64\n",
      " 19  INCIDENT_NUMBER                 490318 non-null  int64  \n",
      " 20  INCIDENT_CREATE_DATE            490318 non-null  object \n",
      " 21  INCIDENT_START_DATETIME         490318 non-null  object \n",
      " 22  INCIDENT_END_DATETIME           490318 non-null  object \n",
      " 23  SECTION_CODE                    490318 non-null  object \n",
      " 24  NETWORK_RAIL_LOCATION_MANAGER   490318 non-null  object \n",
      " 25  RESPONSIBLE_MANAGER             490318 non-null  object \n",
      " 26  INCIDENT_REASON                 489939 non-null  object \n",
      " 27  ATTRIBUTION_STATUS              490318 non-null  object \n",
      " 28  INCIDENT_EQUIPMENT              247771 non-null  object \n",
      " 29  INCIDENT_DESCRIPTION            490318 non-null  object \n",
      " 30  REACTIONARY_REASON_CODE         300008 non-null  object \n",
      " 31  INCIDENT_RESPONSIBLE_TRAIN      224342 non-null  object \n",
      " 32  PERFORMANCE_EVENT_CODE          490318 non-null  object \n",
      " 33  START_STANOX                    490318 non-null  int64  \n",
      " 34  END_STANOX                      490318 non-null  int64  \n",
      " 35  EVENT_DATETIME                  490318 non-null  object \n",
      " 36  PFPI_MINUTES                    490318 non-null  float64\n",
      " 37  TRUST_TRAIN_ID_RESP             209564 non-null  object \n",
      " 38  TRUST_TRAIN_ID_REACT            207675 non-null  object \n",
      "dtypes: float64(4), int64(5), object(30)\n",
      "memory usage: 145.9+ MB\n"
     ]
    }
   ],
   "source": [
    "df1.info()"
   ]
  },
  {
   "cell_type": "code",
   "execution_count": 3,
   "metadata": {},
   "outputs": [],
   "source": [
    "df_source = pd.read_csv('./02-airflow/raw/source_files.csv', sep=';', dtype={'date': str, 'URL': str })"
   ]
  },
  {
   "cell_type": "code",
   "execution_count": 10,
   "metadata": {},
   "outputs": [
    {
     "data": {
      "text/plain": [
       "'201806'"
      ]
     },
     "execution_count": 10,
     "metadata": {},
     "output_type": "execute_result"
    }
   ],
   "source": [
    "df_source.iloc[1].date"
   ]
  },
  {
   "cell_type": "code",
   "execution_count": 10,
   "metadata": {},
   "outputs": [],
   "source": [
    "from datetime import datetime"
   ]
  },
  {
   "cell_type": "code",
   "execution_count": 16,
   "metadata": {},
   "outputs": [
    {
     "name": "stdout",
     "output_type": "stream",
     "text": [
      "201801\n"
     ]
    }
   ],
   "source": [
    "date = datetime(2018,1,1)\n",
    "calmonth = date.strftime(\"%Y-%m-%d\")\n",
    "print(calmonth.split('-')[0] + calmonth.split('-')[1])"
   ]
  },
  {
   "cell_type": "code",
   "execution_count": 13,
   "metadata": {},
   "outputs": [
    {
     "data": {
      "text/plain": [
       "False"
      ]
     },
     "execution_count": 13,
     "metadata": {},
     "output_type": "execute_result"
    }
   ],
   "source": [
    "df_source.iloc[1].date == calmonth"
   ]
  },
  {
   "cell_type": "code",
   "execution_count": 83,
   "metadata": {},
   "outputs": [
    {
     "data": {
      "text/plain": [
       "'https://sacuksprodnrdigital0001.blob.core.windows.net/historic-delay-attribution/2018-19/All-Delays-2018-19-P01.zip'"
      ]
     },
     "execution_count": 83,
     "metadata": {},
     "output_type": "execute_result"
    }
   ],
   "source": [
    "df_source['URL'][df_source.date == calmonth].to_list()[0]"
   ]
  },
  {
   "cell_type": "code",
   "execution_count": 6,
   "metadata": {},
   "outputs": [],
   "source": [
    "df_stanox = pd.read_excel('Historic-Delay-Attribution-Glossary.xlsx',engine='openpyxl', sheet_name = 0\n",
    "                          , \\\n",
    "                          dtype = {'STANOX NO.':'Int32', 'FULL NAME':object, 'CRS CODE':object, 'Route Description':object})\n"
   ]
  },
  {
   "cell_type": "code",
   "execution_count": 7,
   "metadata": {},
   "outputs": [
    {
     "data": {
      "text/plain": [
       "Index(['STANOX NO.', 'FULL NAME', 'CRS CODE', 'Route Description'], dtype='object')"
      ]
     },
     "execution_count": 7,
     "metadata": {},
     "output_type": "execute_result"
    }
   ],
   "source": [
    "df_stanox.columns"
   ]
  },
  {
   "cell_type": "code",
   "execution_count": 8,
   "metadata": {},
   "outputs": [
    {
     "data": {
      "text/html": [
       "<div>\n",
       "<style scoped>\n",
       "    .dataframe tbody tr th:only-of-type {\n",
       "        vertical-align: middle;\n",
       "    }\n",
       "\n",
       "    .dataframe tbody tr th {\n",
       "        vertical-align: top;\n",
       "    }\n",
       "\n",
       "    .dataframe thead th {\n",
       "        text-align: right;\n",
       "    }\n",
       "</style>\n",
       "<table border=\"1\" class=\"dataframe\">\n",
       "  <thead>\n",
       "    <tr style=\"text-align: right;\">\n",
       "      <th></th>\n",
       "      <th>STANOX NO.</th>\n",
       "      <th>FULL NAME</th>\n",
       "      <th>CRS CODE</th>\n",
       "      <th>Route Description</th>\n",
       "    </tr>\n",
       "  </thead>\n",
       "  <tbody>\n",
       "    <tr>\n",
       "      <th>0</th>\n",
       "      <td>87904</td>\n",
       "      <td>3BDGS DN TL SDG ENTRY/EXIT</td>\n",
       "      <td>NaN</td>\n",
       "      <td>Sussex</td>\n",
       "    </tr>\n",
       "    <tr>\n",
       "      <th>1</th>\n",
       "      <td>87915</td>\n",
       "      <td>3BDGS DOWN THAMESLINK SDGS</td>\n",
       "      <td>NaN</td>\n",
       "      <td>Sussex</td>\n",
       "    </tr>\n",
       "    <tr>\n",
       "      <th>2</th>\n",
       "      <td>87907</td>\n",
       "      <td>3 BRIDGES DN DEP SIG TD127</td>\n",
       "      <td>NaN</td>\n",
       "      <td>Sussex</td>\n",
       "    </tr>\n",
       "    <tr>\n",
       "      <th>3</th>\n",
       "      <td>87950</td>\n",
       "      <td>3 BRIDGES UP DEP SIG TD165</td>\n",
       "      <td>NaN</td>\n",
       "      <td>Sussex</td>\n",
       "    </tr>\n",
       "    <tr>\n",
       "      <th>4</th>\n",
       "      <td>5</td>\n",
       "      <td>AACHEN</td>\n",
       "      <td>NaN</td>\n",
       "      <td>High Speed</td>\n",
       "    </tr>\n",
       "  </tbody>\n",
       "</table>\n",
       "</div>"
      ],
      "text/plain": [
       "   STANOX NO.                   FULL NAME CRS CODE Route Description\n",
       "0       87904  3BDGS DN TL SDG ENTRY/EXIT      NaN            Sussex\n",
       "1       87915  3BDGS DOWN THAMESLINK SDGS      NaN            Sussex\n",
       "2       87907  3 BRIDGES DN DEP SIG TD127      NaN            Sussex\n",
       "3       87950  3 BRIDGES UP DEP SIG TD165      NaN            Sussex\n",
       "4           5                      AACHEN      NaN        High Speed"
      ]
     },
     "execution_count": 8,
     "metadata": {},
     "output_type": "execute_result"
    }
   ],
   "source": [
    "df_stanox.head()"
   ]
  },
  {
   "cell_type": "code",
   "execution_count": null,
   "metadata": {},
   "outputs": [],
   "source": []
  },
  {
   "cell_type": "code",
   "execution_count": 4,
   "metadata": {},
   "outputs": [
    {
     "data": {
      "text/plain": [
       "STANOX NO.           float64\n",
       "FULL NAME             object\n",
       "CRS CODE              object\n",
       "Route Description     object\n",
       "dtype: object"
      ]
     },
     "execution_count": 4,
     "metadata": {},
     "output_type": "execute_result"
    }
   ],
   "source": [
    "df_stanox.dtypes"
   ]
  },
  {
   "cell_type": "code",
   "execution_count": 23,
   "metadata": {},
   "outputs": [
    {
     "data": {
      "text/plain": [
       "LONDON VICTORIA              5791\n",
       "GATWICK AIRPORT              4593\n",
       "PRESTON                      4202\n",
       "LONDON BRIDGE                3932\n",
       "LONDON WATERLOO              3892\n",
       "                             ... \n",
       "WATERBEACH                      1\n",
       "FAREHAM NORTH JN                1\n",
       "COLCHESTER RECEPTION LINE       1\n",
       "COTON HILL TC GBRF              1\n",
       "PONTLOTTYN                      1\n",
       "Name: FULL NAME, Length: 3490, dtype: int64"
      ]
     },
     "execution_count": 23,
     "metadata": {},
     "output_type": "execute_result"
    }
   ],
   "source": [
    "pd.merge(df1, df_stanox, how='left', left_on = 'START_STANOX', right_on='STANOX NO.')['FULL NAME'].value_counts()"
   ]
  },
  {
   "cell_type": "code",
   "execution_count": 17,
   "metadata": {},
   "outputs": [],
   "source": [
    "import json"
   ]
  },
  {
   "cell_type": "code",
   "execution_count": 10,
   "metadata": {},
   "outputs": [
    {
     "name": "stdout",
     "output_type": "stream",
     "text": [
      "https://sacuksprodnrdigital0001.blob.core.windows.net/historic-delay-attribution/2018-19/All-Delays-2018-19-P05.zip\n"
     ]
    }
   ],
   "source": [
    "key = '201809'\n",
    "with open('./02-airflow/raw/source_files.json') as json_file:\n",
    "    links = json.load(json_file)\n",
    "print(data[key])"
   ]
  },
  {
   "cell_type": "code",
   "execution_count": 15,
   "metadata": {},
   "outputs": [
    {
     "data": {
      "text/plain": [
       "str"
      ]
     },
     "execution_count": 15,
     "metadata": {},
     "output_type": "execute_result"
    }
   ],
   "source": [
    "type(list(data.keys())[0])"
   ]
  },
  {
   "cell_type": "code",
   "execution_count": 3,
   "metadata": {},
   "outputs": [],
   "source": [
    "import operator"
   ]
  },
  {
   "cell_type": "code",
   "execution_count": 18,
   "metadata": {},
   "outputs": [
    {
     "name": "stdout",
     "output_type": "stream",
     "text": [
      "https://sacuksprodnrdigital0001.blob.core.windows.net/historic-delay-attribution/2018-19/All-Delays-2018-19-P02.zip\n",
      "\n"
     ]
    }
   ],
   "source": [
    "infile_name = './02-airflow/raw/source_files.csv'\n",
    "with open(infile_name, mode='r') as infile:\n",
    "    for line in infile:\n",
    "        # extract lines with our interest country code\n",
    "        if '201806' in operator.itemgetter(0)(line.split(';')):    \n",
    "            print(line.split(';')[1])"
   ]
  },
  {
   "cell_type": "code",
   "execution_count": 9,
   "metadata": {},
   "outputs": [
    {
     "name": "stdout",
     "output_type": "stream",
     "text": [
      "201809;https://sacuksprodnrdigital0001.blob.core.windows.net/historic-delay-attribution/2018-19/All-Delays-2018-19-P05.zip\n",
      "\n"
     ]
    }
   ],
   "source": [
    "AIRFLOW_HOME = './02-airflow'\n",
    "EXECUTION_DATE = '201809'\n",
    "infile_name = f'{AIRFLOW_HOME}/raw/source_files.csv'\n",
    "with open(infile_name, mode='r') as infile:\n",
    "    next_line = infile.readline()\n",
    "    while EXECUTION_DATE != next_line.split(';')[0]:\n",
    "        next_line = infile.readline()\n",
    "    SOURCE_LINE = next_line\n",
    "print(SOURCE_LINE)\n",
    "#       .split(';')[1])"
   ]
  },
  {
   "cell_type": "code",
   "execution_count": 3,
   "metadata": {},
   "outputs": [],
   "source": [
    "df_pq = pd.read_parquet('./02-airflow/pq/all-delays-201805.parquet')"
   ]
  },
  {
   "cell_type": "code",
   "execution_count": 5,
   "metadata": {},
   "outputs": [
    {
     "data": {
      "text/html": [
       "<div>\n",
       "<style scoped>\n",
       "    .dataframe tbody tr th:only-of-type {\n",
       "        vertical-align: middle;\n",
       "    }\n",
       "\n",
       "    .dataframe tbody tr th {\n",
       "        vertical-align: top;\n",
       "    }\n",
       "\n",
       "    .dataframe thead th {\n",
       "        text-align: right;\n",
       "    }\n",
       "</style>\n",
       "<table border=\"1\" class=\"dataframe\">\n",
       "  <thead>\n",
       "    <tr style=\"text-align: right;\">\n",
       "      <th></th>\n",
       "      <th>Archive:  /opt/airflow/raw/all-delays-201805.zip</th>\n",
       "    </tr>\n",
       "  </thead>\n",
       "  <tbody>\n",
       "    <tr>\n",
       "      <th>0</th>\n",
       "      <td>inflating: All Delays 2018-19.csv</td>\n",
       "    </tr>\n",
       "  </tbody>\n",
       "</table>\n",
       "</div>"
      ],
      "text/plain": [
       "  Archive:  /opt/airflow/raw/all-delays-201805.zip\n",
       "0              inflating: All Delays 2018-19.csv  "
      ]
     },
     "execution_count": 5,
     "metadata": {},
     "output_type": "execute_result"
    }
   ],
   "source": [
    "df_pq.head()"
   ]
  },
  {
   "cell_type": "code",
   "execution_count": 8,
   "metadata": {},
   "outputs": [],
   "source": [
    "import pyarrow.csv as pv"
   ]
  },
  {
   "cell_type": "code",
   "execution_count": 2,
   "metadata": {},
   "outputs": [],
   "source": [
    "src_file = './02-airflow/raw/train-delays-202204.csv'\n",
    "table = pv.read_csv(src_file)"
   ]
  },
  {
   "cell_type": "code",
   "execution_count": 6,
   "metadata": {},
   "outputs": [],
   "source": [
    "src_oldfile = './02-airflow/raw/train-delays-201805.csv'\n",
    "oldtable = pv.read_csv(src_oldfile)"
   ]
  },
  {
   "cell_type": "code",
   "execution_count": 8,
   "metadata": {},
   "outputs": [],
   "source": [
    "newcols = table.column_names\n",
    "oldcols = oldtable.column_names"
   ]
  },
  {
   "cell_type": "code",
   "execution_count": 14,
   "metadata": {},
   "outputs": [
    {
     "name": "stdout",
     "output_type": "stream",
     "text": [
      "Old file has 39 columns, new file has 40 columns\n"
     ]
    }
   ],
   "source": [
    "print(f'Old file has {len(oldcols)} columns, new file has {len(newcols)} columns')"
   ]
  },
  {
   "cell_type": "code",
   "execution_count": 12,
   "metadata": {},
   "outputs": [
    {
     "data": {
      "text/plain": [
       "24"
      ]
     },
     "execution_count": 12,
     "metadata": {},
     "output_type": "execute_result"
    }
   ],
   "source": [
    "len(set(newcols).difference(set(oldcols)))"
   ]
  },
  {
   "cell_type": "code",
   "execution_count": 13,
   "metadata": {},
   "outputs": [
    {
     "data": {
      "text/plain": [
       "23"
      ]
     },
     "execution_count": 13,
     "metadata": {},
     "output_type": "execute_result"
    }
   ],
   "source": [
    "len(set(oldcols).difference(set(newcols)))"
   ]
  },
  {
   "cell_type": "code",
   "execution_count": 16,
   "metadata": {},
   "outputs": [
    {
     "name": "stdout",
     "output_type": "stream",
     "text": [
      "FINANCIAL_YEAR_PERIOD\n",
      "ORIGIN_DEPARTURE_DATE\n",
      "TRUST_TRAIN_ID\n",
      "PLANNED_ORIGIN_LOCATION_CODE\n",
      "PLANNED_ORIGIN_WTT_DATETIME\n",
      "PLANNED_ORIGIN_GBTT_DATETIME\n",
      "PLANNED_DEST_LOCATION_CODE\n",
      "PLANNED_DEST_WTT_DATETIME\n",
      "PLANNED_DEST_GBTT_DATETIME\n",
      "TRAIN_SERVICE_CODE\n",
      "SERVICE_GROUP_CODE\n",
      "TOC_CODE\n",
      "ENGLISH_DAY_TYPE\n",
      "APPLICABLE_TIMETABLE_FLAG\n",
      "TRAIN_SCHEDULE_TYPE\n",
      "TRACTION_TYPE\n",
      "TRAILING_LOAD\n",
      "TIMING_LOAD\n",
      "UNIT_CLASS\n",
      "INCIDENT_NUMBER\n",
      "INCIDENT_CREATE_DATE\n",
      "INCIDENT_START_DATETIME\n",
      "INCIDENT_END_DATETIME\n",
      "SECTION_CODE\n",
      "NR_LOCATION_MANAGER\n",
      "RESPONSIBLE_MANAGER\n",
      "INCIDENT_REASON\n",
      "ATTRIBUTION_STATUS\n",
      "INCIDENT_EQUIPMENT\n",
      "INCIDENT_DESCRIPTION\n",
      "REACT_REASON\n",
      "INCIDENT_RESP_TRAIN\n",
      "RESP_TRAIN\n",
      "REACT_TRAIN\n",
      "EVENT_TYPE\n",
      "START_STANOX\n",
      "END_STANOX\n",
      "EVENT_DATETIME\n",
      "PFPI_MINUTES\n",
      "NON_PFPI_MINUTES\n"
     ]
    }
   ],
   "source": [
    "for c in newcols:\n",
    "    print(c)"
   ]
  },
  {
   "cell_type": "code",
   "execution_count": 2,
   "metadata": {},
   "outputs": [],
   "source": [
    "import glob"
   ]
  },
  {
   "cell_type": "code",
   "execution_count": 3,
   "metadata": {},
   "outputs": [
    {
     "name": "stdout",
     "output_type": "stream",
     "text": [
      "<class 'list'>\n"
     ]
    }
   ],
   "source": [
    "local_folder = './02-airflow/raw'\n",
    "local_files = glob.glob(f'{local_folder}/train*.csv')\n",
    "print(type(local_files))"
   ]
  },
  {
   "cell_type": "code",
   "execution_count": 11,
   "metadata": {},
   "outputs": [],
   "source": [
    "\n",
    "with open('./02-airflow/inp_cols.csv', mode='w') as outfile:\n",
    "    for f in local_files:\n",
    "        df = pd.read_csv(f, nrows=0)\n",
    "        line = ';'.join([str(elem) for elem in list(df)])\n",
    "        line = f\"{f.split('/')[-1]};{line}\\n\"\n",
    "        outfile.write(line)"
   ]
  },
  {
   "cell_type": "code",
   "execution_count": 11,
   "metadata": {},
   "outputs": [],
   "source": [
    "import pyarrow.csv as pv\n",
    "import pyarrow as pa"
   ]
  },
  {
   "cell_type": "code",
   "execution_count": 27,
   "metadata": {},
   "outputs": [
    {
     "name": "stdout",
     "output_type": "stream",
     "text": [
      "FINANCIAL_YEAR_AND_PERIOD: string\n",
      "ORIGIN_DEPARTURE_DATE: string\n",
      "TRUST_TRAIN_ID_AFFECTED: string\n",
      "PLANNED_ORIG_LOC_CODE_AFF: int64\n",
      "PLANNED_ORIG_GBTT_DATETIME_AFF: string\n",
      "PLANNED_ORIG_WTT_DATETIME_AFF: string\n",
      "PLANNED_DEST_LOC_CODE_AFFECTED: int64\n",
      "PLANNED_DEST_GBTT_DATETIME_AFF: string\n",
      "PLANNED_DEST_WTT_DATETIME_AFF: string\n",
      "TRAIN_SERVICE_CODE_AFFECTED: int64\n",
      "SERVICE_GROUP_CODE_AFFECTED: string\n",
      "OPERATOR_AFFECTED: string\n",
      "ENGLISH_DAY_TYPE: string\n",
      "APP_TIMETABLE_FLAG_AFF: string\n",
      "TRAIN_SCHEDULE_TYPE_AFFECTED: string\n",
      "TRACTION_TYPE_AFFECTED: string\n",
      "TRAILING_LOAD_AFFECTED: int64\n",
      "TIMING_LOAD_AFFECTED: string\n",
      "UNIT_CLASS_AFFECTED: int64\n",
      "INCIDENT_NUMBER: int64\n",
      "INCIDENT_CREATE_DATE: string\n",
      "INCIDENT_START_DATETIME: string\n",
      "INCIDENT_END_DATETIME: string\n",
      "SECTION_CODE: string\n",
      "NETWORK_RAIL_LOCATION_MANAGER: string\n",
      "RESPONSIBLE_MANAGER: string\n",
      "INCIDENT_REASON: string\n",
      "ATTRIBUTION_STATUS: string\n",
      "INCIDENT_EQUIPMENT: string\n",
      "INCIDENT_DESCRIPTION: string\n",
      "REACTIONARY_REASON_CODE: string\n",
      "INCIDENT_RESPONSIBLE_TRAIN: string\n",
      "PERFORMANCE_EVENT_CODE: string\n",
      "START_STANOX: int64\n",
      "END_STANOX: int64\n",
      "EVENT_DATETIME: string\n",
      "PFPI_MINUTES: double\n",
      "TRUST_TRAIN_ID_RESP: string\n",
      "TRUST_TRAIN_ID_REACT: string\n",
      "(490318, 39)\n"
     ]
    }
   ],
   "source": [
    "table = pv.read_csv('./02-airflow/raw/all-delays-201805.csv')\n",
    "print(table.schema)\n",
    "print(table.shape)"
   ]
  },
  {
   "cell_type": "code",
   "execution_count": 39,
   "metadata": {},
   "outputs": [
    {
     "name": "stdout",
     "output_type": "stream",
     "text": [
      "FINANCIAL_YEAR_AND_PERIOD: string\n",
      "ORIGIN_DEPARTURE_DATE: string\n",
      "TRUST_TRAIN_ID_AFFECTED: string\n",
      "PLANNED_ORIG_LOC_CODE_AFF: string\n",
      "PLANNED_ORIG_GBTT_DATETIME_AFF: string\n",
      "PLANNED_ORIG_WTT_DATETIME_AFF: string\n",
      "PLANNED_DEST_LOC_CODE_AFFECTED: string\n",
      "PLANNED_DEST_GBTT_DATETIME_AFF: string\n",
      "PLANNED_DEST_WTT_DATETIME_AFF: string\n",
      "TRAIN_SERVICE_CODE_AFFECTED: string\n",
      "SERVICE_GROUP_CODE_AFFECTED: string\n",
      "OPERATOR_AFFECTED: string\n",
      "ENGLISH_DAY_TYPE: string\n",
      "APP_TIMETABLE_FLAG_AFF: string\n",
      "TRAIN_SCHEDULE_TYPE_AFFECTED: string\n",
      "TRACTION_TYPE_AFFECTED: string\n",
      "TRAILING_LOAD_AFFECTED: string\n",
      "TIMING_LOAD_AFFECTED: string\n",
      "UNIT_CLASS_AFFECTED: string\n",
      "INCIDENT_NUMBER: string\n",
      "INCIDENT_CREATE_DATE: string\n",
      "INCIDENT_START_DATETIME: string\n",
      "INCIDENT_END_DATETIME: string\n",
      "SECTION_CODE: string\n",
      "NETWORK_RAIL_LOCATION_MANAGER: string\n",
      "RESPONSIBLE_MANAGER: string\n",
      "INCIDENT_REASON: string\n",
      "ATTRIBUTION_STATUS: string\n",
      "INCIDENT_EQUIPMENT: string\n",
      "INCIDENT_DESCRIPTION: string\n",
      "REACTIONARY_REASON_CODE: string\n",
      "INCIDENT_RESPONSIBLE_TRAIN: string\n",
      "PERFORMANCE_EVENT_CODE: string\n",
      "START_STANOX: string\n",
      "END_STANOX: string\n",
      "EVENT_DATETIME: string\n",
      "PFPI_MINUTES: double\n",
      "TRUST_TRAIN_ID_RESP: string\n",
      "TRUST_TRAIN_ID_REACT: string\n",
      "(490318, 39)\n"
     ]
    }
   ],
   "source": [
    "new_types = {\n",
    "\"FINANCIAL_YEAR_AND_PERIOD\": \"string\",\n",
    "\"ORIGIN_DEPARTURE_DATE\": \"string\",\n",
    "\"TRUST_TRAIN_ID_AFFECTED\": \"string\",\n",
    "\"PLANNED_ORIG_LOC_CODE_AFF\": \"string\",\n",
    "\"PLANNED_ORIG_GBTT_DATETIME_AFF\": \"string\",\n",
    "\"PLANNED_ORIG_WTT_DATETIME_AFF\": \"string\",\n",
    "\"PLANNED_DEST_LOC_CODE_AFFECTED\": \"string\",\n",
    "\"PLANNED_DEST_GBTT_DATETIME_AFF\": \"string\",\n",
    "\"PLANNED_DEST_WTT_DATETIME_AFF\": \"string\",\n",
    "\"TRAIN_SERVICE_CODE_AFFECTED\": \"string\",\n",
    "\"SERVICE_GROUP_CODE_AFFECTED\": \"string\",\n",
    "\"OPERATOR_AFFECTED\": \"string\",\n",
    "\"ENGLISH_DAY_TYPE\": \"string\",\n",
    "\"APP_TIMETABLE_FLAG_AFF\": \"string\",\n",
    "\"TRAIN_SCHEDULE_TYPE_AFFECTED\": \"string\",\n",
    "\"TRACTION_TYPE_AFFECTED\": \"string\",\n",
    "\"TRAILING_LOAD_AFFECTED\": \"string\",\n",
    "\"TIMING_LOAD_AFFECTED\": \"string\",\n",
    "\"UNIT_CLASS_AFFECTED\": \"string\",\n",
    "\"INCIDENT_NUMBER\": \"string\",\n",
    "\"INCIDENT_CREATE_DATE\": \"string\",\n",
    "\"INCIDENT_START_DATETIME\": \"string\",\n",
    "\"INCIDENT_END_DATETIME\": \"string\",\n",
    "\"SECTION_CODE\": \"string\",\n",
    "\"NETWORK_RAIL_LOCATION_MANAGER\": \"string\",\n",
    "\"RESPONSIBLE_MANAGER\": \"string\",\n",
    "\"INCIDENT_REASON\": \"string\",\n",
    "\"ATTRIBUTION_STATUS\": \"string\",\n",
    "\"INCIDENT_EQUIPMENT\": \"string\",\n",
    "\"INCIDENT_DESCRIPTION\": \"string\",\n",
    "\"REACTIONARY_REASON_CODE\": \"string\",\n",
    "\"INCIDENT_RESPONSIBLE_TRAIN\": \"string\",\n",
    "\"PERFORMANCE_EVENT_CODE\": \"string\",\n",
    "\"START_STANOX\": \"string\",\n",
    "\"END_STANOX\": \"string\",\n",
    "\"EVENT_DATETIME\": \"string\",\n",
    "\"PFPI_MINUTES\": \"double\",\n",
    "\"TRUST_TRAIN_ID_RESP\": \"string\",\n",
    "\"TRUST_TRAIN_ID_REACT\": \"string\"\n",
    "\n",
    "}\n",
    "new_names = [\n",
    "'financial_year_and_period',\n",
    "'origin_departure_date',\n",
    "'trust_train_id_affected',\n",
    "'planned_orig_loc_code_aff',\n",
    "'planned_orig_gbtt_datetime_aff',\n",
    "'planned_orig_wtt_datetime_aff',\n",
    "'planned_dest_loc_code_affected',\n",
    "'planned_dest_gbtt_datetime_aff',\n",
    "'planned_dest_wtt_datetime_aff',\n",
    "'train_service_code_affected',\n",
    "'service_group_code_affected',\n",
    "'operator_affected',\n",
    "'english_day_type',\n",
    "'app_timetable_flag_aff',\n",
    "'train_schedule_type_affected',\n",
    "'traction_type_affected',\n",
    "'trailing_load_affected',\n",
    "'timing_load_affected',\n",
    "'unit_class_affected',\n",
    "'incident_number',\n",
    "'incident_create_date',\n",
    "'incident_start_datetime',\n",
    "'incident_end_datetime',\n",
    "'section_code',\n",
    "'network_rail_location_manager',\n",
    "'responsible_manager',\n",
    "'incident_reason',\n",
    "'attribution_status',\n",
    "'incident_equipment',\n",
    "'incident_description',\n",
    "'reactionary_reason_code',\n",
    "'incident_responsible_train',\n",
    "'performance_event_code',\n",
    "'start_stanox',\n",
    "'end_stanox',\n",
    "'event_datetime',\n",
    "'pfpi_minutes',\n",
    "'trust_train_id_resp',\n",
    "'trust_train_id_react'\n",
    "]\n",
    "\n",
    "ReadOptions = pv.ReadOptions(column_names = new_names)\n",
    "ConvertOptions = pv.ConvertOptions(column_types = new_types)\n",
    "ParseOptions = pv.ParseOptions()\n",
    "table_mod = pv.read_csv('./02-airflow/raw/all-delays-201805.csv', \n",
    "#                         read_options=ReadOptions, \n",
    "#                         ParseOptions, \n",
    "                        convert_options=ConvertOptions)\n",
    "print(table_mod.schema)\n",
    "print(table.shape)"
   ]
  },
  {
   "cell_type": "code",
   "execution_count": 42,
   "metadata": {},
   "outputs": [],
   "source": [
    "table_mod = table_mod.rename_columns(new_names)"
   ]
  },
  {
   "cell_type": "code",
   "execution_count": 43,
   "metadata": {},
   "outputs": [
    {
     "data": {
      "text/plain": [
       "financial_year_and_period: string\n",
       "origin_departure_date: string\n",
       "trust_train_id_affected: string\n",
       "planned_orig_loc_code_aff: string\n",
       "planned_orig_gbtt_datetime_aff: string\n",
       "planned_orig_wtt_datetime_aff: string\n",
       "planned_dest_loc_code_affected: string\n",
       "planned_dest_gbtt_datetime_aff: string\n",
       "planned_dest_wtt_datetime_aff: string\n",
       "train_service_code_affected: string\n",
       "service_group_code_affected: string\n",
       "operator_affected: string\n",
       "english_day_type: string\n",
       "app_timetable_flag_aff: string\n",
       "train_schedule_type_affected: string\n",
       "traction_type_affected: string\n",
       "trailing_load_affected: string\n",
       "timing_load_affected: string\n",
       "unit_class_affected: string\n",
       "incident_number: string\n",
       "incident_create_date: string\n",
       "incident_start_datetime: string\n",
       "incident_end_datetime: string\n",
       "section_code: string\n",
       "network_rail_location_manager: string\n",
       "responsible_manager: string\n",
       "incident_reason: string\n",
       "attribution_status: string\n",
       "incident_equipment: string\n",
       "incident_description: string\n",
       "reactionary_reason_code: string\n",
       "incident_responsible_train: string\n",
       "performance_event_code: string\n",
       "start_stanox: string\n",
       "end_stanox: string\n",
       "event_datetime: string\n",
       "pfpi_minutes: double\n",
       "trust_train_id_resp: string\n",
       "trust_train_id_react: string"
      ]
     },
     "execution_count": 43,
     "metadata": {},
     "output_type": "execute_result"
    }
   ],
   "source": [
    "table_mod.schema"
   ]
  },
  {
   "cell_type": "code",
   "execution_count": 44,
   "metadata": {},
   "outputs": [],
   "source": [
    "schema_201910_202004 = {\n",
    "    \"financial_year_period\": \"string\",\n",
    "    \"origin_departure_date\": \"string\",\n",
    "    \"trust_train_id\": \"string\",\n",
    "    \"planned_origin_location_code\": \"string\",\n",
    "    \"planned_origin_wtt_datetime\": \"string\",\n",
    "    \"planned_origin_gbtt_datetime\": \"string\",\n",
    "    \"planned_dest_location_code\": \"string\",\n",
    "    \"planned_dest_wtt_datetime\": \"string\",\n",
    "    \"planned_dest_gbtt_datetime\": \"string\",\n",
    "    \"train_service_code\": \"string\",\n",
    "    \"service_group_code\": \"string\",\n",
    "    \"toc_code\": \"string\",\n",
    "    \"english_day_type\": \"string\",\n",
    "    \"applicable_timetable_flag\": \"string\",\n",
    "    \"train_schedule_type\": \"string\",\n",
    "    \"traction_type\": \"string\",\n",
    "    \"trailing_load\": \"string\",\n",
    "    \"timing_load\": \"string\",\n",
    "    \"unit_class\": \"string\",\n",
    "    \"incident_number\": \"string\",\n",
    "    \"incident_create_date\": \"string\",\n",
    "    \"incident_start_datetime\": \"string\",\n",
    "    \"incident_end_datetime\": \"string\",\n",
    "    \"section_code\": \"string\",\n",
    "    \"nr_location_manager\": \"string\",\n",
    "    \"resp_manager\": \"string\",\n",
    "    \"incident_reason\": \"string\",\n",
    "    \"attribution_status\": \"string\",\n",
    "    \"incident_equipment\": \"string\",\n",
    "    \"incident_description\": \"string\",\n",
    "    \"react_reason\": \"string\",\n",
    "    \"incident_resp_train\": \"string\",\n",
    "    \"resp_train\": \"string\",\n",
    "    \"react_train\": \"string\",\n",
    "    \"event_type\": \"string\",\n",
    "    \"start_stanox\": \"string\",\n",
    "    \"end_stanox\": \"string\",\n",
    "    \"event_datetime\": \"string\",\n",
    "    \"pfpi_minutes\": \"double\",\n",
    "    \"non_pfpi_minutes\": \"double\"\n",
    "}"
   ]
  },
  {
   "cell_type": "code",
   "execution_count": 50,
   "metadata": {},
   "outputs": [],
   "source": [
    "schema_202005_202105 = {\n",
    "    \"FINANCIAL_YEAR_PERIOD\": \"string\",\n",
    "    \"ORIGIN_DEPARTURE_DATE\": \"string\",\n",
    "    \"TRUST_TRAIN_ID\": \"string\",\n",
    "    \"PLANNED_ORIGIN_LOCATION_CODE\": \"string\",\n",
    "    \"PLANNED_ORIGIN_WTT_DATETIME\": \"string\",\n",
    "    \"PLANNED_ORIGIN_GBTT_DATETIME\": \"string\",\n",
    "    \"PLANNED_DEST_LOCATION_CODE\": \"string\",\n",
    "    \"PLANNED_DEST_WTT_DATETIME\": \"string\",\n",
    "    \"PLANNED_DEST_GBTT_DATETIME\": \"string\",\n",
    "    \"TRAIN_SERVICE_CODE\": \"string\",\n",
    "    \"SERVICE_GROUP_CODE\": \"string\",\n",
    "    \"TOC_CODE\": \"string\",\n",
    "    \"ENGLISH_DAY_TYPE\": \"string\",\n",
    "    \"APPLICABLE_TIMETABLE_FLAG\": \"string\",\n",
    "    \"TRAIN_SCHEDULE_TYPE\": \"string\",\n",
    "    \"TRACTION_TYPE\": \"string\",\n",
    "    \"TRAILING_LOAD\": \"string\",\n",
    "    \"TIMING_LOAD\": \"string\",\n",
    "    \"UNIT_CLASS\": \"string\",\n",
    "    \"INCIDENT_NUMBER\": \"string\",\n",
    "    \"INCIDENT_CREATE_DATE\": \"string\",\n",
    "    \"INCIDENT_START_DATETIME\": \"string\",\n",
    "    \"INCIDENT_END_DATETIME\": \"string\",\n",
    "    \"SECTION_CODE\": \"string\",\n",
    "    \"NR_LOCATION_MANAGER\": \"string\",\n",
    "    \"RESP_MANAGER\": \"string\",\n",
    "    \"INCIDENT_REASON\": \"string\",\n",
    "    \"ATTRIBUTION_STATUS\": \"string\",\n",
    "    \"INCIDENT_EQUIPMENT\": \"string\",\n",
    "    \"INCIDENT_DESCRIPTION\": \"string\",\n",
    "    \"REACT_REASON\": \"string\",\n",
    "    \"INCIDENT_RESP_TRAIN\": \"string\",\n",
    "    \"RESP_TRAIN\": \"string\",\n",
    "    \"REACT_TRAIN\": \"string\",\n",
    "    \"EVENT_TYPE\": \"string\",\n",
    "    \"START_STANOX\": \"string\",\n",
    "    \"END_STANOX\": \"string\",\n",
    "    \"EVENT_DATETIME\": \"string\",\n",
    "    \"PFPI_MINUTES\": \"double\",\n",
    "    \"NON_PFPI_MINUTES\": \"double\"\n",
    "}"
   ]
  },
  {
   "cell_type": "code",
   "execution_count": 52,
   "metadata": {},
   "outputs": [],
   "source": [
    "schema_post202106 = {\n",
    "    \"FINANCIAL_YEAR_PERIOD\": \"string\",\n",
    "    \"ORIGIN_DEPARTURE_DATE\": \"string\",\n",
    "    \"TRUST_TRAIN_ID\": \"string\",\n",
    "    \"PLANNED_ORIGIN_LOCATION_CODE\": \"string\",\n",
    "    \"PLANNED_ORIGIN_WTT_DATETIME\": \"string\",\n",
    "    \"PLANNED_ORIGIN_GBTT_DATETIME\": \"string\",\n",
    "    \"PLANNED_DEST_LOCATION_CODE\": \"string\",\n",
    "    \"PLANNED_DEST_WTT_DATETIME\": \"string\",\n",
    "    \"PLANNED_DEST_GBTT_DATETIME\": \"string\",\n",
    "    \"TRAIN_SERVICE_CODE\": \"string\",\n",
    "    \"SERVICE_GROUP_CODE\": \"string\",\n",
    "    \"TOC_CODE\": \"string\",\n",
    "    \"ENGLISH_DAY_TYPE\": \"string\",\n",
    "    \"APPLICABLE_TIMETABLE_FLAG\": \"string\",\n",
    "    \"TRAIN_SCHEDULE_TYPE\": \"string\",\n",
    "    \"TRACTION_TYPE\": \"string\",\n",
    "    \"TRAILING_LOAD\": \"string\",\n",
    "    \"TIMING_LOAD\": \"string\",\n",
    "    \"UNIT_CLASS\": \"string\",\n",
    "    \"INCIDENT_NUMBER\": \"string\",\n",
    "    \"INCIDENT_CREATE_DATE\": \"string\",\n",
    "    \"INCIDENT_START_DATETIME\": \"string\",\n",
    "    \"INCIDENT_END_DATETIME\": \"string\",\n",
    "    \"SECTION_CODE\": \"string\",\n",
    "    \"NR_LOCATION_MANAGER\": \"string\",\n",
    "    \"RESPONSIBLE_MANAGER\": \"string\",\n",
    "    \"INCIDENT_REASON\": \"string\",\n",
    "    \"ATTRIBUTION_STATUS\": \"string\",\n",
    "    \"INCIDENT_EQUIPMENT\": \"string\",\n",
    "    \"INCIDENT_DESCRIPTION\": \"string\",\n",
    "    \"REACT_REASON\": \"string\",\n",
    "    \"INCIDENT_RESP_TRAIN\": \"string\",\n",
    "    \"RESP_TRAIN\": \"string\",\n",
    "    \"REACT_TRAIN\": \"string\",\n",
    "    \"EVENT_TYPE\": \"string\",\n",
    "    \"START_STANOX\": \"string\",\n",
    "    \"END_STANOX\": \"string\",\n",
    "    \"EVENT_DATETIME\": \"string\",\n",
    "    \"PFPI_MINUTES\": \"double\",\n",
    "    \"NON_PFPI_MINUTES\": \"double\"\n",
    "}"
   ]
  },
  {
   "cell_type": "code",
   "execution_count": 85,
   "metadata": {},
   "outputs": [
    {
     "name": "stdout",
     "output_type": "stream",
     "text": [
      "FINANCIAL_YEAR_PERIOD: string\n",
      "ORIGIN_DEPARTURE_DATE: string\n",
      "TRUST_TRAIN_ID: string\n",
      "PLANNED_ORIGIN_LOCATION_CODE: string\n",
      "PLANNED_ORIGIN_WTT_DATETIME: string\n",
      "PLANNED_ORIGIN_GBTT_DATETIME: string\n",
      "PLANNED_DEST_LOCATION_CODE: string\n",
      "PLANNED_DEST_WTT_DATETIME: string\n",
      "PLANNED_DEST_GBTT_DATETIME: string\n",
      "TRAIN_SERVICE_CODE: string\n",
      "SERVICE_GROUP_CODE: string\n",
      "TOC_CODE: string\n",
      "ENGLISH_DAY_TYPE: string\n",
      "APPLICABLE_TIMETABLE_FLAG: string\n",
      "TRAIN_SCHEDULE_TYPE: string\n",
      "TRACTION_TYPE: string\n",
      "TRAILING_LOAD: string\n",
      "TIMING_LOAD: string\n",
      "UNIT_CLASS: string\n",
      "INCIDENT_NUMBER: string\n",
      "INCIDENT_CREATE_DATE: string\n",
      "INCIDENT_START_DATETIME: string\n",
      "INCIDENT_END_DATETIME: string\n",
      "SECTION_CODE: string\n",
      "NR_LOCATION_MANAGER: string\n",
      "RESP_MANAGER: string\n",
      "INCIDENT_REASON: string\n",
      "ATTRIBUTION_STATUS: string\n",
      "INCIDENT_EQUIPMENT: string\n",
      "INCIDENT_DESCRIPTION: string\n",
      "REACT_REASON: string\n",
      "INCIDENT_RESP_TRAIN: string\n",
      "RESP_TRAIN: string\n",
      "REACT_TRAIN: string\n",
      "EVENT_TYPE: string\n",
      "START_STANOX: string\n",
      "END_STANOX: string\n",
      "EVENT_DATETIME: string\n",
      "PFPI_MINUTES: double\n",
      "NON_PFPI_MINUTES: double\n",
      ": null\n",
      ": null\n",
      "(178004, 42)\n"
     ]
    }
   ],
   "source": [
    "ConvertOptions = pv.ConvertOptions(column_types = schema_202005_202105)\n",
    "table_202010 = pv.read_csv('./02-airflow/raw/train-delays-202010.csv', \n",
    "                        convert_options=ConvertOptions)\n",
    "print(table_202010.schema)\n",
    "print(table_202010.shape)"
   ]
  },
  {
   "cell_type": "code",
   "execution_count": 86,
   "metadata": {},
   "outputs": [
    {
     "name": "stdout",
     "output_type": "stream",
     "text": [
      "old columns: ['FINANCIAL_YEAR_PERIOD', 'ORIGIN_DEPARTURE_DATE', 'TRUST_TRAIN_ID', 'PLANNED_ORIGIN_LOCATION_CODE', 'PLANNED_ORIGIN_WTT_DATETIME', 'PLANNED_ORIGIN_GBTT_DATETIME', 'PLANNED_DEST_LOCATION_CODE', 'PLANNED_DEST_WTT_DATETIME', 'PLANNED_DEST_GBTT_DATETIME', 'TRAIN_SERVICE_CODE', 'SERVICE_GROUP_CODE', 'TOC_CODE', 'ENGLISH_DAY_TYPE', 'APPLICABLE_TIMETABLE_FLAG', 'TRAIN_SCHEDULE_TYPE', 'TRACTION_TYPE', 'TRAILING_LOAD', 'TIMING_LOAD', 'UNIT_CLASS', 'INCIDENT_NUMBER', 'INCIDENT_CREATE_DATE', 'INCIDENT_START_DATETIME', 'INCIDENT_END_DATETIME', 'SECTION_CODE', 'NR_LOCATION_MANAGER', 'RESP_MANAGER', 'INCIDENT_REASON', 'ATTRIBUTION_STATUS', 'INCIDENT_EQUIPMENT', 'INCIDENT_DESCRIPTION', 'REACT_REASON', 'INCIDENT_RESP_TRAIN', 'RESP_TRAIN', 'REACT_TRAIN', 'EVENT_TYPE', 'START_STANOX', 'END_STANOX', 'EVENT_DATETIME', 'PFPI_MINUTES', 'NON_PFPI_MINUTES', '', '']\n",
      "42\n",
      "3\n",
      "column index: 41\n",
      "removing column named pyarrow.Field<: null>\n",
      "column index: 40\n",
      "removing column named pyarrow.Field<: null>\n",
      "column index: 39\n",
      "removing column named pyarrow.Field<NON_PFPI_MINUTES: double>\n",
      "new columns: ['FINANCIAL_YEAR_PERIOD', 'ORIGIN_DEPARTURE_DATE', 'TRUST_TRAIN_ID', 'PLANNED_ORIGIN_LOCATION_CODE', 'PLANNED_ORIGIN_WTT_DATETIME', 'PLANNED_ORIGIN_GBTT_DATETIME', 'PLANNED_DEST_LOCATION_CODE', 'PLANNED_DEST_WTT_DATETIME', 'PLANNED_DEST_GBTT_DATETIME', 'TRAIN_SERVICE_CODE', 'SERVICE_GROUP_CODE', 'TOC_CODE', 'ENGLISH_DAY_TYPE', 'APPLICABLE_TIMETABLE_FLAG', 'TRAIN_SCHEDULE_TYPE', 'TRACTION_TYPE', 'TRAILING_LOAD', 'TIMING_LOAD', 'UNIT_CLASS', 'INCIDENT_NUMBER', 'INCIDENT_CREATE_DATE', 'INCIDENT_START_DATETIME', 'INCIDENT_END_DATETIME', 'SECTION_CODE', 'NR_LOCATION_MANAGER', 'RESP_MANAGER', 'INCIDENT_REASON', 'ATTRIBUTION_STATUS', 'INCIDENT_EQUIPMENT', 'INCIDENT_DESCRIPTION', 'REACT_REASON', 'INCIDENT_RESP_TRAIN', 'RESP_TRAIN', 'REACT_TRAIN', 'EVENT_TYPE', 'START_STANOX', 'END_STANOX', 'EVENT_DATETIME', 'PFPI_MINUTES']\n"
     ]
    }
   ],
   "source": [
    "num_col = table_202010.num_columns\n",
    "print(f'old columns: {table_202010.column_names}')\n",
    "print(num_col)\n",
    "print(num_col-39)\n",
    "for i in range(table_202010.num_columns, 39, -1):\n",
    "    print(f'column index: {i-1}')\n",
    "    print(f'removing column named {table_202010.field(i-1)}')\n",
    "    table_202010 = table_202010.remove_column(i-1)\n",
    "print(f'new columns: {table_202010.column_names}')"
   ]
  },
  {
   "cell_type": "code",
   "execution_count": 57,
   "metadata": {},
   "outputs": [],
   "source": [
    "col_names = [\n",
    "    \"FINANCIAL_YEAR_AND_PERIOD\",\n",
    "    \"ORIGIN_DEPARTURE_DATE\",\n",
    "    \"TRUST_TRAIN_ID_AFFECTED\",\n",
    "    \"PLANNED_ORIG_LOC_CODE_AFF\",\n",
    "    \"PLANNED_ORIG_WTT_DATETIME_AFF\",\n",
    "    \"PLANNED_ORIG_GBTT_DATETIME_AFF\",\n",
    "    \"PLANNED_DEST_LOC_CODE_AFFECTED\",\n",
    "    \"PLANNED_DEST_WTT_DATETIME_AFF\",\n",
    "    \"PLANNED_DEST_GBTT_DATETIME_AFF\",\n",
    "    \"TRAIN_SERVICE_CODE_AFFECTED\",\n",
    "    \"SERVICE_GROUP_CODE_AFFECTED\",\n",
    "    \"OPERATOR_AFFECTED\",\n",
    "    \"ENGLISH_DAY_TYPE\",\n",
    "    \"APP_TIMETABLE_FLAG_AFF\",\n",
    "    \"TRAIN_SCHEDULE_TYPE_AFFECTED\",\n",
    "    \"TRACTION_TYPE_AFFECTED\",\n",
    "    \"TRAILING_LOAD_AFFECTED\",\n",
    "    \"TIMING_LOAD_AFFECTED\",\n",
    "    \"UNIT_CLASS_AFFECTED\",\n",
    "    \"INCIDENT_NUMBER\",\n",
    "    \"INCIDENT_CREATE_DATE\",\n",
    "    \"INCIDENT_START_DATETIME\",\n",
    "    \"INCIDENT_END_DATETIME\",\n",
    "    \"SECTION_CODE\",\n",
    "    \"NETWORK_RAIL_LOCATION_MANAGER\",\n",
    "    \"RESPONSIBLE_MANAGER\",\n",
    "    \"INCIDENT_REASON\",\n",
    "    \"ATTRIBUTION_STATUS\",\n",
    "    \"INCIDENT_EQUIPMENT\",\n",
    "    \"INCIDENT_DESCRIPTION\",\n",
    "    \"REACTIONARY_REASON_CODE\",\n",
    "    \"INCIDENT_RESPONSIBLE_TRAIN\",\n",
    "    \"TRUST_TRAIN_ID_RESP\",\n",
    "    \"TRUST_TRAIN_ID_REACT\",\n",
    "    \"PERFORMANCE_EVENT_CODE\",\n",
    "    \"START_STANOX\",\n",
    "    \"END_STANOX\",\n",
    "    \"EVENT_DATETIME\",\n",
    "    \"PFPI_MINUTES\",\n",
    "    \"NON_PFPI_MINUTES\"\n",
    "]"
   ]
  },
  {
   "cell_type": "code",
   "execution_count": 6,
   "metadata": {},
   "outputs": [],
   "source": [
    "applied_schema = {\n",
    "    \"FINANCIAL_YEAR_PERIOD\": \"string\",\n",
    "    \"ORIGIN_DEPARTURE_DATE\": \"string\",\n",
    "    \"TRUST_TRAIN_ID\": \"string\",\n",
    "    \"PLANNED_ORIGIN_LOCATION_CODE\": \"string\",\n",
    "    \"PLANNED_ORIGIN_WTT_DATETIME\": \"string\",\n",
    "    \"PLANNED_ORIGIN_GBTT_DATETIME\": \"string\",\n",
    "    \"PLANNED_DEST_LOCATION_CODE\": \"string\",\n",
    "    \"PLANNED_DEST_WTT_DATETIME\": \"string\",\n",
    "    \"PLANNED_DEST_GBTT_DATETIME\": \"string\",\n",
    "    \"TRAIN_SERVICE_CODE\": \"string\",\n",
    "    \"SERVICE_GROUP_CODE\": \"string\",\n",
    "    \"TOC_CODE\": \"string\",\n",
    "    \"ENGLISH_DAY_TYPE\": \"string\",\n",
    "    \"APPLICABLE_TIMETABLE_FLAG\": \"string\",\n",
    "    \"TRAIN_SCHEDULE_TYPE\": \"string\",\n",
    "    \"TRACTION_TYPE\": \"string\",\n",
    "    \"TRAILING_LOAD\": \"string\",\n",
    "    \"TIMING_LOAD\": \"string\",\n",
    "    \"UNIT_CLASS\": \"string\",\n",
    "    \"INCIDENT_NUMBER\": \"string\",\n",
    "    \"INCIDENT_CREATE_DATE\": \"string\",\n",
    "    \"INCIDENT_START_DATETIME\": \"string\",\n",
    "    \"INCIDENT_END_DATETIME\": \"string\",\n",
    "    \"SECTION_CODE\": \"string\",\n",
    "    \"NR_LOCATION_MANAGER\": \"string\",\n",
    "    \"RESPONSIBLE_MANAGER\": \"string\",\n",
    "    \"INCIDENT_REASON\": \"string\",\n",
    "    \"ATTRIBUTION_STATUS\": \"string\",\n",
    "    \"INCIDENT_EQUIPMENT\": \"string\",\n",
    "    \"INCIDENT_DESCRIPTION\": \"string\",\n",
    "    \"REACT_REASON\": \"string\",\n",
    "    \"INCIDENT_RESP_TRAIN\": \"string\",\n",
    "    \"RESP_TRAIN\": \"string\",\n",
    "    \"REACT_TRAIN\": \"string\",\n",
    "    \"EVENT_TYPE\": \"string\",\n",
    "    \"START_STANOX\": \"string\",\n",
    "    \"END_STANOX\": \"string\",\n",
    "    \"EVENT_DATETIME\": \"string\",\n",
    "    \"PFPI_MINUTES\": \"double\",\n",
    "    \"NON_PFPI_MINUTES\": \"double\"\n",
    "}"
   ]
  },
  {
   "cell_type": "code",
   "execution_count": 9,
   "metadata": {},
   "outputs": [
    {
     "ename": "ArrowInvalid",
     "evalue": "CSV parse error: Expected 40 columns, got 2: ,2021/22_P03",
     "output_type": "error",
     "traceback": [
      "\u001b[0;31m---------------------------------------------------------------------------\u001b[0m",
      "\u001b[0;31mArrowInvalid\u001b[0m                              Traceback (most recent call last)",
      "\u001b[0;32m<ipython-input-9-684be1021805>\u001b[0m in \u001b[0;36m<module>\u001b[0;34m\u001b[0m\n\u001b[1;32m      2\u001b[0m \u001b[0mConvertOptions\u001b[0m \u001b[0;34m=\u001b[0m \u001b[0mpv\u001b[0m\u001b[0;34m.\u001b[0m\u001b[0mConvertOptions\u001b[0m\u001b[0;34m(\u001b[0m\u001b[0mcolumn_types\u001b[0m \u001b[0;34m=\u001b[0m \u001b[0mapplied_schema\u001b[0m\u001b[0;34m)\u001b[0m\u001b[0;34m\u001b[0m\u001b[0;34m\u001b[0m\u001b[0m\n\u001b[1;32m      3\u001b[0m table = pv.read_csv(src_file, \n\u001b[0;32m----> 4\u001b[0;31m                 convert_options=ConvertOptions)\n\u001b[0m\u001b[1;32m      5\u001b[0m \u001b[0mprint\u001b[0m\u001b[0;34m(\u001b[0m\u001b[0;34mf'Table has {table.num_columns} columns'\u001b[0m\u001b[0;34m)\u001b[0m\u001b[0;34m\u001b[0m\u001b[0;34m\u001b[0m\u001b[0m\n\u001b[1;32m      6\u001b[0m \u001b[0mprint\u001b[0m\u001b[0;34m(\u001b[0m\u001b[0;34mf'Column names: \\n {table.column_names} \\n'\u001b[0m\u001b[0;34m)\u001b[0m\u001b[0;34m\u001b[0m\u001b[0;34m\u001b[0m\u001b[0m\n",
      "\u001b[0;32m~/miniconda3/lib/python3.7/site-packages/pyarrow/_csv.pyx\u001b[0m in \u001b[0;36mpyarrow._csv.read_csv\u001b[0;34m()\u001b[0m\n",
      "\u001b[0;32m~/miniconda3/lib/python3.7/site-packages/pyarrow/_csv.pyx\u001b[0m in \u001b[0;36mpyarrow._csv.read_csv\u001b[0;34m()\u001b[0m\n",
      "\u001b[0;32m~/miniconda3/lib/python3.7/site-packages/pyarrow/error.pxi\u001b[0m in \u001b[0;36mpyarrow.lib.pyarrow_internal_check_status\u001b[0;34m()\u001b[0m\n",
      "\u001b[0;32m~/miniconda3/lib/python3.7/site-packages/pyarrow/error.pxi\u001b[0m in \u001b[0;36mpyarrow.lib.check_status\u001b[0;34m()\u001b[0m\n",
      "\u001b[0;31mArrowInvalid\u001b[0m: CSV parse error: Expected 40 columns, got 2: ,2021/22_P03"
     ]
    }
   ],
   "source": [
    "src_file = './02-airflow/raw/train-delays-202110.csv'\n",
    "ConvertOptions = pv.ConvertOptions(column_types = applied_schema)\n",
    "table = pv.read_csv(src_file, \n",
    "                convert_options=ConvertOptions)\n",
    "print(f'Table has {table.num_columns} columns')\n",
    "print(f'Column names: \\n {table.column_names} \\n')\n",
    "for i in range(table.num_columns, 39, -1):\n",
    "    table = table.remove_column(i-1)\n",
    "\n",
    "table = table.rename_columns(col_names)\n",
    "print(f'Table updated to have {table.num_columns} columns')\n",
    "print(f'Column updated names: \\n {table.column_names}')"
   ]
  },
  {
   "cell_type": "code",
   "execution_count": 3,
   "metadata": {},
   "outputs": [],
   "source": [
    "import sys\n",
    "sys.path.insert(0, './02-airflow/dags')\n",
    "from convert_to_parquet import csv_to_parquet"
   ]
  },
  {
   "cell_type": "code",
   "execution_count": 5,
   "metadata": {},
   "outputs": [
    {
     "name": "stdout",
     "output_type": "stream",
     "text": [
      "Applying schema_post202106 for ./02-airflow/raw/train-delays-202110.csv\n"
     ]
    },
    {
     "ename": "ArrowInvalid",
     "evalue": "CSV parse error: Expected 40 columns, got 2: ,2021/22_P03",
     "output_type": "error",
     "traceback": [
      "\u001b[0;31m---------------------------------------------------------------------------\u001b[0m",
      "\u001b[0;31mArrowInvalid\u001b[0m                              Traceback (most recent call last)",
      "\u001b[0;32m<ipython-input-5-f2a6e38bb156>\u001b[0m in \u001b[0;36m<module>\u001b[0;34m\u001b[0m\n\u001b[0;32m----> 1\u001b[0;31m \u001b[0mcsv_to_parquet\u001b[0m\u001b[0;34m(\u001b[0m\u001b[0;34m'./02-airflow/raw/train-delays-202110.csv'\u001b[0m\u001b[0;34m,\u001b[0m \u001b[0;34m'202110'\u001b[0m\u001b[0;34m)\u001b[0m\u001b[0;34m\u001b[0m\u001b[0;34m\u001b[0m\u001b[0m\n\u001b[0m",
      "\u001b[0;32m~/train-delays-analytics/02-airflow/dags/convert_to_parquet.py\u001b[0m in \u001b[0;36mcsv_to_parquet\u001b[0;34m(src_file, execcalmonth)\u001b[0m\n\u001b[1;32m    244\u001b[0m         \u001b[0mtable\u001b[0m \u001b[0;34m=\u001b[0m \u001b[0mtable\u001b[0m\u001b[0;34m.\u001b[0m\u001b[0mrename_columns\u001b[0m\u001b[0;34m(\u001b[0m\u001b[0mcol_names\u001b[0m\u001b[0;34m)\u001b[0m\u001b[0;34m\u001b[0m\u001b[0;34m\u001b[0m\u001b[0m\n\u001b[1;32m    245\u001b[0m \u001b[0;34m\u001b[0m\u001b[0m\n\u001b[0;32m--> 246\u001b[0;31m     \u001b[0mprint\u001b[0m\u001b[0;34m(\u001b[0m\u001b[0;34mf'Saved table has schema: \\n {table.schema} \\n Saved table has {table.num_columns} columns'\u001b[0m\u001b[0;34m)\u001b[0m\u001b[0;34m\u001b[0m\u001b[0;34m\u001b[0m\u001b[0m\n\u001b[0m\u001b[1;32m    247\u001b[0m     \u001b[0mpq\u001b[0m\u001b[0;34m.\u001b[0m\u001b[0mwrite_table\u001b[0m\u001b[0;34m(\u001b[0m\u001b[0mtable\u001b[0m\u001b[0;34m,\u001b[0m \u001b[0msrc_file\u001b[0m\u001b[0;34m.\u001b[0m\u001b[0mreplace\u001b[0m\u001b[0;34m(\u001b[0m\u001b[0;34m'.csv'\u001b[0m\u001b[0;34m,\u001b[0m \u001b[0;34m'.parquet'\u001b[0m\u001b[0;34m)\u001b[0m\u001b[0;34m.\u001b[0m\u001b[0mreplace\u001b[0m\u001b[0;34m(\u001b[0m\u001b[0;34m'raw'\u001b[0m\u001b[0;34m,\u001b[0m \u001b[0;34m'pq'\u001b[0m\u001b[0;34m)\u001b[0m\u001b[0;34m)\u001b[0m\u001b[0;34m\u001b[0m\u001b[0;34m\u001b[0m\u001b[0m\n",
      "\u001b[0;32m~/miniconda3/lib/python3.7/site-packages/pyarrow/_csv.pyx\u001b[0m in \u001b[0;36mpyarrow._csv.read_csv\u001b[0;34m()\u001b[0m\n",
      "\u001b[0;32m~/miniconda3/lib/python3.7/site-packages/pyarrow/_csv.pyx\u001b[0m in \u001b[0;36mpyarrow._csv.read_csv\u001b[0;34m()\u001b[0m\n",
      "\u001b[0;32m~/miniconda3/lib/python3.7/site-packages/pyarrow/error.pxi\u001b[0m in \u001b[0;36mpyarrow.lib.pyarrow_internal_check_status\u001b[0;34m()\u001b[0m\n",
      "\u001b[0;32m~/miniconda3/lib/python3.7/site-packages/pyarrow/error.pxi\u001b[0m in \u001b[0;36mpyarrow.lib.check_status\u001b[0;34m()\u001b[0m\n",
      "\u001b[0;31mArrowInvalid\u001b[0m: CSV parse error: Expected 40 columns, got 2: ,2021/22_P03"
     ]
    }
   ],
   "source": [
    "csv_to_parquet('./02-airflow/raw/train-delays-202110.csv', '202110')"
   ]
  },
  {
   "cell_type": "code",
   "execution_count": 13,
   "metadata": {},
   "outputs": [
    {
     "ename": "ArrowInvalid",
     "evalue": "CSV parse error: Expected 40 columns, got 2: ,2021/22_P03",
     "output_type": "error",
     "traceback": [
      "\u001b[0;31m---------------------------------------------------------------------------\u001b[0m",
      "\u001b[0;31mArrowInvalid\u001b[0m                              Traceback (most recent call last)",
      "\u001b[0;32m<ipython-input-13-e4e4a0112f68>\u001b[0m in \u001b[0;36m<module>\u001b[0;34m\u001b[0m\n\u001b[0;32m----> 1\u001b[0;31m \u001b[0mtable_202110\u001b[0m \u001b[0;34m=\u001b[0m \u001b[0mpv\u001b[0m\u001b[0;34m.\u001b[0m\u001b[0mread_csv\u001b[0m\u001b[0;34m(\u001b[0m\u001b[0;34m'./02-airflow/raw/train-delays-202110.csv'\u001b[0m\u001b[0;34m)\u001b[0m\u001b[0;34m\u001b[0m\u001b[0;34m\u001b[0m\u001b[0m\n\u001b[0m",
      "\u001b[0;32m~/miniconda3/lib/python3.7/site-packages/pyarrow/_csv.pyx\u001b[0m in \u001b[0;36mpyarrow._csv.read_csv\u001b[0;34m()\u001b[0m\n",
      "\u001b[0;32m~/miniconda3/lib/python3.7/site-packages/pyarrow/_csv.pyx\u001b[0m in \u001b[0;36mpyarrow._csv.read_csv\u001b[0;34m()\u001b[0m\n",
      "\u001b[0;32m~/miniconda3/lib/python3.7/site-packages/pyarrow/error.pxi\u001b[0m in \u001b[0;36mpyarrow.lib.pyarrow_internal_check_status\u001b[0;34m()\u001b[0m\n",
      "\u001b[0;32m~/miniconda3/lib/python3.7/site-packages/pyarrow/error.pxi\u001b[0m in \u001b[0;36mpyarrow.lib.check_status\u001b[0;34m()\u001b[0m\n",
      "\u001b[0;31mArrowInvalid\u001b[0m: CSV parse error: Expected 40 columns, got 2: ,2021/22_P03"
     ]
    }
   ],
   "source": [
    "table_202110 = pv.read_csv('./02-airflow/raw/train-delays-202110.csv')"
   ]
  },
  {
   "cell_type": "code",
   "execution_count": 14,
   "metadata": {},
   "outputs": [],
   "source": [
    "df_202110 = pd.read_csv('./02-airflow/raw/train-delays-202110.csv')"
   ]
  },
  {
   "cell_type": "code",
   "execution_count": 17,
   "metadata": {},
   "outputs": [
    {
     "data": {
      "text/plain": [
       "FINANCIAL_YEAR_PERIOD                2\n",
       "ORIGIN_DEPARTURE_DATE                0\n",
       "TRUST_TRAIN_ID                       1\n",
       "PLANNED_ORIGIN_LOCATION_CODE         1\n",
       "PLANNED_ORIGIN_WTT_DATETIME          1\n",
       "PLANNED_ORIGIN_GBTT_DATETIME     93983\n",
       "PLANNED_DEST_LOCATION_CODE           1\n",
       "PLANNED_DEST_WTT_DATETIME            1\n",
       "PLANNED_DEST_GBTT_DATETIME       93984\n",
       "TRAIN_SERVICE_CODE                   1\n",
       "SERVICE_GROUP_CODE                   1\n",
       "TOC_CODE                             1\n",
       "ENGLISH_DAY_TYPE                     1\n",
       "APPLICABLE_TIMETABLE_FLAG            1\n",
       "TRAIN_SCHEDULE_TYPE                  1\n",
       "TRACTION_TYPE                     4189\n",
       "TRAILING_LOAD                   257594\n",
       "TIMING_LOAD                     236075\n",
       "UNIT_CLASS                      210537\n",
       "INCIDENT_NUMBER                      1\n",
       "INCIDENT_CREATE_DATE                 1\n",
       "INCIDENT_START_DATETIME              1\n",
       "INCIDENT_END_DATETIME                1\n",
       "SECTION_CODE                         1\n",
       "NR_LOCATION_MANAGER                  1\n",
       "RESPONSIBLE_MANAGER                  1\n",
       "INCIDENT_REASON                    696\n",
       "ATTRIBUTION_STATUS                   1\n",
       "INCIDENT_EQUIPMENT              149103\n",
       "INCIDENT_DESCRIPTION                 1\n",
       "REACT_REASON                    139978\n",
       "INCIDENT_RESP_TRAIN             156050\n",
       "RESP_TRAIN                      164291\n",
       "REACT_TRAIN                     185459\n",
       "EVENT_TYPE                           1\n",
       "START_STANOX                         1\n",
       "END_STANOX                           1\n",
       "EVENT_DATETIME                       1\n",
       "PFPI_MINUTES                         1\n",
       "NON_PFPI_MINUTES                     1\n",
       "dtype: int64"
      ]
     },
     "execution_count": 17,
     "metadata": {},
     "output_type": "execute_result"
    }
   ],
   "source": [
    "df_202110.isna().sum()"
   ]
  },
  {
   "cell_type": "code",
   "execution_count": 19,
   "metadata": {},
   "outputs": [
    {
     "data": {
      "text/html": [
       "<div>\n",
       "<style scoped>\n",
       "    .dataframe tbody tr th:only-of-type {\n",
       "        vertical-align: middle;\n",
       "    }\n",
       "\n",
       "    .dataframe tbody tr th {\n",
       "        vertical-align: top;\n",
       "    }\n",
       "\n",
       "    .dataframe thead th {\n",
       "        text-align: right;\n",
       "    }\n",
       "</style>\n",
       "<table border=\"1\" class=\"dataframe\">\n",
       "  <thead>\n",
       "    <tr style=\"text-align: right;\">\n",
       "      <th></th>\n",
       "      <th>FINANCIAL_YEAR_PERIOD</th>\n",
       "      <th>ORIGIN_DEPARTURE_DATE</th>\n",
       "      <th>TRUST_TRAIN_ID</th>\n",
       "      <th>PLANNED_ORIGIN_LOCATION_CODE</th>\n",
       "      <th>PLANNED_ORIGIN_WTT_DATETIME</th>\n",
       "      <th>PLANNED_ORIGIN_GBTT_DATETIME</th>\n",
       "      <th>PLANNED_DEST_LOCATION_CODE</th>\n",
       "      <th>PLANNED_DEST_WTT_DATETIME</th>\n",
       "      <th>PLANNED_DEST_GBTT_DATETIME</th>\n",
       "      <th>TRAIN_SERVICE_CODE</th>\n",
       "      <th>...</th>\n",
       "      <th>REACT_REASON</th>\n",
       "      <th>INCIDENT_RESP_TRAIN</th>\n",
       "      <th>RESP_TRAIN</th>\n",
       "      <th>REACT_TRAIN</th>\n",
       "      <th>EVENT_TYPE</th>\n",
       "      <th>START_STANOX</th>\n",
       "      <th>END_STANOX</th>\n",
       "      <th>EVENT_DATETIME</th>\n",
       "      <th>PFPI_MINUTES</th>\n",
       "      <th>NON_PFPI_MINUTES</th>\n",
       "    </tr>\n",
       "  </thead>\n",
       "  <tbody>\n",
       "    <tr>\n",
       "      <th>219855</th>\n",
       "      <td>NaN</td>\n",
       "      <td>2021/22_P03</td>\n",
       "      <td>NaN</td>\n",
       "      <td>NaN</td>\n",
       "      <td>NaN</td>\n",
       "      <td>NaN</td>\n",
       "      <td>NaN</td>\n",
       "      <td>NaN</td>\n",
       "      <td>NaN</td>\n",
       "      <td>NaN</td>\n",
       "      <td>...</td>\n",
       "      <td>NaN</td>\n",
       "      <td>NaN</td>\n",
       "      <td>NaN</td>\n",
       "      <td>NaN</td>\n",
       "      <td>NaN</td>\n",
       "      <td>NaN</td>\n",
       "      <td>NaN</td>\n",
       "      <td>NaN</td>\n",
       "      <td>NaN</td>\n",
       "      <td>NaN</td>\n",
       "    </tr>\n",
       "  </tbody>\n",
       "</table>\n",
       "<p>1 rows × 40 columns</p>\n",
       "</div>"
      ],
      "text/plain": [
       "       FINANCIAL_YEAR_PERIOD ORIGIN_DEPARTURE_DATE TRUST_TRAIN_ID  \\\n",
       "219855                   NaN           2021/22_P03            NaN   \n",
       "\n",
       "        PLANNED_ORIGIN_LOCATION_CODE PLANNED_ORIGIN_WTT_DATETIME  \\\n",
       "219855                           NaN                         NaN   \n",
       "\n",
       "       PLANNED_ORIGIN_GBTT_DATETIME  PLANNED_DEST_LOCATION_CODE  \\\n",
       "219855                          NaN                         NaN   \n",
       "\n",
       "       PLANNED_DEST_WTT_DATETIME PLANNED_DEST_GBTT_DATETIME  \\\n",
       "219855                       NaN                        NaN   \n",
       "\n",
       "        TRAIN_SERVICE_CODE  ... REACT_REASON INCIDENT_RESP_TRAIN RESP_TRAIN  \\\n",
       "219855                 NaN  ...          NaN                 NaN        NaN   \n",
       "\n",
       "       REACT_TRAIN EVENT_TYPE START_STANOX  END_STANOX EVENT_DATETIME  \\\n",
       "219855         NaN        NaN          NaN         NaN            NaN   \n",
       "\n",
       "        PFPI_MINUTES  NON_PFPI_MINUTES  \n",
       "219855           NaN               NaN  \n",
       "\n",
       "[1 rows x 40 columns]"
      ]
     },
     "execution_count": 19,
     "metadata": {},
     "output_type": "execute_result"
    }
   ],
   "source": [
    "df_202110[df_202110.TRUST_TRAIN_ID.isna()]"
   ]
  },
  {
   "cell_type": "code",
   "execution_count": null,
   "metadata": {},
   "outputs": [],
   "source": []
  }
 ],
 "metadata": {
  "kernelspec": {
   "display_name": "Python 3",
   "language": "python",
   "name": "python3"
  },
  "language_info": {
   "codemirror_mode": {
    "name": "ipython",
    "version": 3
   },
   "file_extension": ".py",
   "mimetype": "text/x-python",
   "name": "python",
   "nbconvert_exporter": "python",
   "pygments_lexer": "ipython3",
   "version": "3.7.11"
  }
 },
 "nbformat": 4,
 "nbformat_minor": 4
}
