{
 "cells": [
  {
   "cell_type": "code",
   "execution_count": 1,
   "metadata": {},
   "outputs": [],
   "source": [
    "import pandas as pd"
   ]
  },
  {
   "cell_type": "code",
   "execution_count": 14,
   "metadata": {},
   "outputs": [
    {
     "data": {
      "text/html": [
       "<div>\n",
       "<style scoped>\n",
       "    .dataframe tbody tr th:only-of-type {\n",
       "        vertical-align: middle;\n",
       "    }\n",
       "\n",
       "    .dataframe tbody tr th {\n",
       "        vertical-align: top;\n",
       "    }\n",
       "\n",
       "    .dataframe thead th {\n",
       "        text-align: right;\n",
       "    }\n",
       "</style>\n",
       "<table border=\"1\" class=\"dataframe\">\n",
       "  <thead>\n",
       "    <tr style=\"text-align: right;\">\n",
       "      <th></th>\n",
       "      <th>STANOX NO.</th>\n",
       "      <th>FULL NAME</th>\n",
       "      <th>CRS CODE</th>\n",
       "      <th>Route Description</th>\n",
       "    </tr>\n",
       "  </thead>\n",
       "  <tbody>\n",
       "    <tr>\n",
       "      <th>0</th>\n",
       "      <td>87904</td>\n",
       "      <td>3BDGS DN TL SDG ENTRY/EXIT</td>\n",
       "      <td>&lt;NA&gt;</td>\n",
       "      <td>Sussex</td>\n",
       "    </tr>\n",
       "    <tr>\n",
       "      <th>1</th>\n",
       "      <td>87915</td>\n",
       "      <td>3BDGS DOWN THAMESLINK SDGS</td>\n",
       "      <td>&lt;NA&gt;</td>\n",
       "      <td>Sussex</td>\n",
       "    </tr>\n",
       "    <tr>\n",
       "      <th>2</th>\n",
       "      <td>87907</td>\n",
       "      <td>3 BRIDGES DN DEP SIG TD127</td>\n",
       "      <td>&lt;NA&gt;</td>\n",
       "      <td>Sussex</td>\n",
       "    </tr>\n",
       "    <tr>\n",
       "      <th>3</th>\n",
       "      <td>87950</td>\n",
       "      <td>3 BRIDGES UP DEP SIG TD165</td>\n",
       "      <td>&lt;NA&gt;</td>\n",
       "      <td>Sussex</td>\n",
       "    </tr>\n",
       "    <tr>\n",
       "      <th>4</th>\n",
       "      <td>00005</td>\n",
       "      <td>AACHEN</td>\n",
       "      <td>&lt;NA&gt;</td>\n",
       "      <td>High Speed</td>\n",
       "    </tr>\n",
       "  </tbody>\n",
       "</table>\n",
       "</div>"
      ],
      "text/plain": [
       "  STANOX NO.                   FULL NAME CRS CODE Route Description\n",
       "0      87904  3BDGS DN TL SDG ENTRY/EXIT     <NA>            Sussex\n",
       "1      87915  3BDGS DOWN THAMESLINK SDGS     <NA>            Sussex\n",
       "2      87907  3 BRIDGES DN DEP SIG TD127     <NA>            Sussex\n",
       "3      87950  3 BRIDGES UP DEP SIG TD165     <NA>            Sussex\n",
       "4      00005                      AACHEN     <NA>        High Speed"
      ]
     },
     "execution_count": 14,
     "metadata": {},
     "output_type": "execute_result"
    }
   ],
   "source": [
    "df_stanox = pd.read_excel('Historic-Delay-Attribution-Glossary.xlsx',engine='openpyxl', sheet_name = 0\n",
    "                          , \\\n",
    "                          dtype = {'STANOX NO.':'string', 'FULL NAME':'string', 'CRS CODE':'string', \n",
    "                                   'Route Description':'string'})\n",
    "df_stanox.head()"
   ]
  },
  {
   "cell_type": "code",
   "execution_count": 5,
   "metadata": {},
   "outputs": [
    {
     "name": "stdout",
     "output_type": "stream",
     "text": [
      "<class 'pandas.core.frame.DataFrame'>\n",
      "RangeIndex: 11233 entries, 0 to 11232\n",
      "Data columns (total 4 columns):\n",
      " #   Column             Non-Null Count  Dtype \n",
      "---  ------             --------------  ----- \n",
      " 0   STANOX NO.         11231 non-null  string\n",
      " 1   FULL NAME          11231 non-null  string\n",
      " 2   CRS CODE           3068 non-null   string\n",
      " 3   Route Description  11232 non-null  string\n",
      "dtypes: string(4)\n",
      "memory usage: 351.2 KB\n"
     ]
    }
   ],
   "source": [
    "df_stanox.info()"
   ]
  },
  {
   "cell_type": "code",
   "execution_count": 59,
   "metadata": {},
   "outputs": [],
   "source": [
    "schemas = {\n",
    "    \"Stanox Codes\":{\n",
    "        \"sheetNo\": 0,\n",
    "        \"schema\": {'STANOX NO.':'string',\n",
    "                   'FULL NAME':'string', \n",
    "                   'CRS CODE':'string', \n",
    "                   'Route Description':'string'}\n",
    "    },\n",
    "    \"Incident Reason\": {\n",
    "        \"Incident Category\": \"string\",\n",
    "         \"Incident Reason\": \"string\",\n",
    "         \"Incident Reason Name\": \"string\",\n",
    "         \"Incident Category Description\": \"string\",\n",
    "         \"Incident Reason Description\": \"string\",\n",
    "         \"Incident JPIP Category\": \"string\",\n",
    "         \"Incident Category Super Group Code\": \"string\"},\n",
    "    \"Responsible Manager\": {\n",
    "        \"Responsible Manager\": \"string\",\n",
    "        \"Responsible Manager Name\": \"string\",\n",
    "        \"Responsible Organisation\": \"string\",\n",
    "        \"Responsible Organisation Full Name\": \"string\",\n",
    "        \"Responsible Organisation Name\": \"string\",\n",
    "        \"Responsible Org NR-TOC/FOC Others\": \"string\"},\n",
    "    \"Reactionary Reasons\":{\n",
    "        \"Reactionary Reason Code\" : \"string\",\n",
    "        \"Reactionary Reason Description\": \"string\",\n",
    "        \"Reactionary Reason Name\": \"string\"},\n",
    "    \"Performance Event\":{\n",
    "        \"Performance Event Types\": \"string\",\n",
    "        \"Performance Event Group\": \"string\",\n",
    "        \"Performance Event Name\": \"string\"},\n",
    "    \"Service Group\": {\n",
    "        \"Service Group Code\": \"string\",\n",
    "        \"Service Group Description\": \"string\",\n",
    "        \"TSC\": \"string\",\n",
    "        \"TSC Description\": \"string\"},\n",
    "    \"Operator\": {\n",
    "        \"Operator Code\": \"string\",\n",
    "        \"Operator Name\": \"string\"},\n",
    "    \"Train Service\": {\n",
    "        \"Service Group Code\": \"string\",\n",
    "        \"Service Group Description\": \"string\",\n",
    "        \"Train Service Code\": \"string\",\n",
    "        \"TSC Description\": \"string\"}\n",
    "}\n"
   ]
  },
  {
   "cell_type": "code",
   "execution_count": 44,
   "metadata": {},
   "outputs": [
    {
     "data": {
      "text/plain": [
       "['Responsible Manager',\n",
       " 'Responsible Manager Name',\n",
       " 'Responsible Organisation',\n",
       " 'Responsible Organisation Full Name',\n",
       " 'Responsible Organisation Name',\n",
       " 'Responsible Org NR-TOC/FOC Others']"
      ]
     },
     "execution_count": 44,
     "metadata": {},
     "output_type": "execute_result"
    }
   ],
   "source": [
    "[*schemas['Responsible Manager'].keys()]"
   ]
  },
  {
   "cell_type": "code",
   "execution_count": 28,
   "metadata": {},
   "outputs": [
    {
     "data": {
      "text/html": [
       "<div>\n",
       "<style scoped>\n",
       "    .dataframe tbody tr th:only-of-type {\n",
       "        vertical-align: middle;\n",
       "    }\n",
       "\n",
       "    .dataframe tbody tr th {\n",
       "        vertical-align: top;\n",
       "    }\n",
       "\n",
       "    .dataframe thead th {\n",
       "        text-align: right;\n",
       "    }\n",
       "</style>\n",
       "<table border=\"1\" class=\"dataframe\">\n",
       "  <thead>\n",
       "    <tr style=\"text-align: right;\">\n",
       "      <th></th>\n",
       "      <th>Incident Category</th>\n",
       "      <th>Incident Reason</th>\n",
       "      <th>Incident Reason Name</th>\n",
       "      <th>Incident Category Description</th>\n",
       "      <th>Incident Reason Description</th>\n",
       "      <th>Incident JPIP Category</th>\n",
       "      <th>Incident Category Super Group Code</th>\n",
       "    </tr>\n",
       "  </thead>\n",
       "  <tbody>\n",
       "    <tr>\n",
       "      <th>0</th>\n",
       "      <td>101</td>\n",
       "      <td>IB</td>\n",
       "      <td>POINTS FLR</td>\n",
       "      <td>Points failures</td>\n",
       "      <td>Points failure (including no fault found)</td>\n",
       "      <td>Non-Track Assets</td>\n",
       "      <td>NTAG</td>\n",
       "    </tr>\n",
       "    <tr>\n",
       "      <th>1</th>\n",
       "      <td>101</td>\n",
       "      <td>IP</td>\n",
       "      <td>POINT HEAT</td>\n",
       "      <td>Points failures</td>\n",
       "      <td>Points failure caused by snow or frost where h...</td>\n",
       "      <td>Non-Track Assets</td>\n",
       "      <td>NTAG</td>\n",
       "    </tr>\n",
       "    <tr>\n",
       "      <th>2</th>\n",
       "      <td>101</td>\n",
       "      <td>JT</td>\n",
       "      <td>NO PNT HTR</td>\n",
       "      <td>Points failures</td>\n",
       "      <td>Points failure caused by snow or frost where h...</td>\n",
       "      <td>Non-Track Assets</td>\n",
       "      <td>NTAG</td>\n",
       "    </tr>\n",
       "    <tr>\n",
       "      <th>3</th>\n",
       "      <td>102</td>\n",
       "      <td>IQ</td>\n",
       "      <td>TRACK SIGN</td>\n",
       "      <td>Problems with trackside signs including TSR bo...</td>\n",
       "      <td>Trackside sign blown down, fallen over, missin...</td>\n",
       "      <td>Network Management / Other</td>\n",
       "      <td>MCG</td>\n",
       "    </tr>\n",
       "    <tr>\n",
       "      <th>4</th>\n",
       "      <td>103</td>\n",
       "      <td>ID</td>\n",
       "      <td>LEVEL XING</td>\n",
       "      <td>Level crossing failures</td>\n",
       "      <td>Level crossing faults and failure incl. barrow...</td>\n",
       "      <td>Non-Track Assets</td>\n",
       "      <td>NTAG</td>\n",
       "    </tr>\n",
       "  </tbody>\n",
       "</table>\n",
       "</div>"
      ],
      "text/plain": [
       "  Incident Category Incident Reason Incident Reason Name  \\\n",
       "0               101              IB           POINTS FLR   \n",
       "1               101              IP           POINT HEAT   \n",
       "2               101              JT           NO PNT HTR   \n",
       "3               102              IQ           TRACK SIGN   \n",
       "4               103              ID           LEVEL XING   \n",
       "\n",
       "                       Incident Category Description  \\\n",
       "0                                    Points failures   \n",
       "1                                    Points failures   \n",
       "2                                    Points failures   \n",
       "3  Problems with trackside signs including TSR bo...   \n",
       "4                            Level crossing failures   \n",
       "\n",
       "                         Incident Reason Description  \\\n",
       "0          Points failure (including no fault found)   \n",
       "1  Points failure caused by snow or frost where h...   \n",
       "2  Points failure caused by snow or frost where h...   \n",
       "3  Trackside sign blown down, fallen over, missin...   \n",
       "4  Level crossing faults and failure incl. barrow...   \n",
       "\n",
       "       Incident JPIP Category Incident Category Super Group Code  \n",
       "0            Non-Track Assets                               NTAG  \n",
       "1            Non-Track Assets                               NTAG  \n",
       "2            Non-Track Assets                               NTAG  \n",
       "3  Network Management / Other                                MCG  \n",
       "4            Non-Track Assets                               NTAG  "
      ]
     },
     "execution_count": 28,
     "metadata": {},
     "output_type": "execute_result"
    }
   ],
   "source": [
    "df_sheet2 = pd.read_excel('Historic-Delay-Attribution-Glossary.xlsx',engine='openpyxl', sheet_name = 2\n",
    "                          , skipfooter=2)\n",
    "df_sheet2.head()"
   ]
  },
  {
   "cell_type": "code",
   "execution_count": 29,
   "metadata": {},
   "outputs": [
    {
     "name": "stdout",
     "output_type": "stream",
     "text": [
      "<class 'pandas.core.frame.DataFrame'>\n",
      "RangeIndex: 365 entries, 0 to 364\n",
      "Data columns (total 7 columns):\n",
      " #   Column                              Non-Null Count  Dtype \n",
      "---  ------                              --------------  ----- \n",
      " 0   Incident Category                   365 non-null    object\n",
      " 1   Incident Reason                     364 non-null    object\n",
      " 2   Incident Reason Name                365 non-null    object\n",
      " 3   Incident Category Description       365 non-null    object\n",
      " 4   Incident Reason Description         365 non-null    object\n",
      " 5   Incident JPIP Category              365 non-null    object\n",
      " 6   Incident Category Super Group Code  365 non-null    object\n",
      "dtypes: object(7)\n",
      "memory usage: 20.1+ KB\n"
     ]
    }
   ],
   "source": [
    "df_sheet2.info()"
   ]
  },
  {
   "cell_type": "code",
   "execution_count": 30,
   "metadata": {},
   "outputs": [
    {
     "data": {
      "text/html": [
       "<div>\n",
       "<style scoped>\n",
       "    .dataframe tbody tr th:only-of-type {\n",
       "        vertical-align: middle;\n",
       "    }\n",
       "\n",
       "    .dataframe tbody tr th {\n",
       "        vertical-align: top;\n",
       "    }\n",
       "\n",
       "    .dataframe thead th {\n",
       "        text-align: right;\n",
       "    }\n",
       "</style>\n",
       "<table border=\"1\" class=\"dataframe\">\n",
       "  <thead>\n",
       "    <tr style=\"text-align: right;\">\n",
       "      <th></th>\n",
       "      <th>Responsible Managers.Responsible Manager</th>\n",
       "      <th>Responsible Manager Name</th>\n",
       "      <th>Responsible Organisation</th>\n",
       "      <th>Responsible Organisation Full Name</th>\n",
       "      <th>Responsible Organisation Name</th>\n",
       "      <th>Responsible Org NR-TOC/FOC Others</th>\n",
       "    </tr>\n",
       "  </thead>\n",
       "  <tbody>\n",
       "    <tr>\n",
       "      <th>0</th>\n",
       "      <td>ACCQ</td>\n",
       "      <td>Railtest</td>\n",
       "      <td>SD</td>\n",
       "      <td>Serco Rail Operations</td>\n",
       "      <td>Serco Rail Ops</td>\n",
       "      <td>TOC/FOC</td>\n",
       "    </tr>\n",
       "    <tr>\n",
       "      <th>1</th>\n",
       "      <td>ACDA</td>\n",
       "      <td>Railtest</td>\n",
       "      <td>SD</td>\n",
       "      <td>Serco Rail Operations</td>\n",
       "      <td>Serco Rail Ops</td>\n",
       "      <td>TOC/FOC</td>\n",
       "    </tr>\n",
       "    <tr>\n",
       "      <th>2</th>\n",
       "      <td>ACQA</td>\n",
       "      <td>SERCO Railtest</td>\n",
       "      <td>SD</td>\n",
       "      <td>Serco Rail Operations</td>\n",
       "      <td>Serco Rail Ops</td>\n",
       "      <td>TOC/FOC</td>\n",
       "    </tr>\n",
       "    <tr>\n",
       "      <th>3</th>\n",
       "      <td>ADAA</td>\n",
       "      <td>RFD Terminal Automotive</td>\n",
       "      <td>WA</td>\n",
       "      <td>DB Cargo</td>\n",
       "      <td>DB Cargo</td>\n",
       "      <td>TOC/FOC</td>\n",
       "    </tr>\n",
       "    <tr>\n",
       "      <th>4</th>\n",
       "      <td>ADAC</td>\n",
       "      <td>RFD Terminal Chunnel</td>\n",
       "      <td>WA</td>\n",
       "      <td>DB Cargo</td>\n",
       "      <td>DB Cargo</td>\n",
       "      <td>TOC/FOC</td>\n",
       "    </tr>\n",
       "  </tbody>\n",
       "</table>\n",
       "</div>"
      ],
      "text/plain": [
       "  Responsible Managers.Responsible Manager        Responsible Manager Name  \\\n",
       "0                                     ACCQ                        Railtest   \n",
       "1                                     ACDA                        Railtest   \n",
       "2                                     ACQA  SERCO Railtest                   \n",
       "3                                     ADAA  RFD Terminal Automotive          \n",
       "4                                     ADAC  RFD Terminal Chunnel             \n",
       "\n",
       "  Responsible Organisation Responsible Organisation Full Name  \\\n",
       "0                       SD              Serco Rail Operations   \n",
       "1                       SD              Serco Rail Operations   \n",
       "2                       SD              Serco Rail Operations   \n",
       "3                       WA                           DB Cargo   \n",
       "4                       WA                           DB Cargo   \n",
       "\n",
       "  Responsible Organisation Name Responsible Org NR-TOC/FOC Others  \n",
       "0                Serco Rail Ops                           TOC/FOC  \n",
       "1                Serco Rail Ops                           TOC/FOC  \n",
       "2                Serco Rail Ops                           TOC/FOC  \n",
       "3                      DB Cargo                           TOC/FOC  \n",
       "4                      DB Cargo                           TOC/FOC  "
      ]
     },
     "execution_count": 30,
     "metadata": {},
     "output_type": "execute_result"
    }
   ],
   "source": [
    "df_sheet3 = pd.read_excel('Historic-Delay-Attribution-Glossary.xlsx',engine='openpyxl', sheet_name = 3,\n",
    "                         dtype = schemas['Responsible Manager'], skipfooter=2)\n",
    "df_sheet3.head()"
   ]
  },
  {
   "cell_type": "code",
   "execution_count": 31,
   "metadata": {},
   "outputs": [
    {
     "name": "stdout",
     "output_type": "stream",
     "text": [
      "<class 'pandas.core.frame.DataFrame'>\n",
      "RangeIndex: 6889 entries, 0 to 6888\n",
      "Data columns (total 6 columns):\n",
      " #   Column                                    Non-Null Count  Dtype \n",
      "---  ------                                    --------------  ----- \n",
      " 0   Responsible Managers.Responsible Manager  6889 non-null   object\n",
      " 1   Responsible Manager Name                  6889 non-null   string\n",
      " 2   Responsible Organisation                  6889 non-null   string\n",
      " 3   Responsible Organisation Full Name        6889 non-null   string\n",
      " 4   Responsible Organisation Name             6889 non-null   string\n",
      " 5   Responsible Org NR-TOC/FOC Others         6889 non-null   string\n",
      "dtypes: object(1), string(5)\n",
      "memory usage: 323.0+ KB\n"
     ]
    }
   ],
   "source": [
    "df_sheet3.info()"
   ]
  },
  {
   "cell_type": "code",
   "execution_count": 45,
   "metadata": {},
   "outputs": [
    {
     "data": {
      "text/html": [
       "<div>\n",
       "<style scoped>\n",
       "    .dataframe tbody tr th:only-of-type {\n",
       "        vertical-align: middle;\n",
       "    }\n",
       "\n",
       "    .dataframe tbody tr th {\n",
       "        vertical-align: top;\n",
       "    }\n",
       "\n",
       "    .dataframe thead th {\n",
       "        text-align: right;\n",
       "    }\n",
       "</style>\n",
       "<table border=\"1\" class=\"dataframe\">\n",
       "  <thead>\n",
       "    <tr style=\"text-align: right;\">\n",
       "      <th></th>\n",
       "      <th>Reactionary Reason Code</th>\n",
       "      <th>Reactionary Reason Description</th>\n",
       "      <th>Reactionary Reason Name</th>\n",
       "    </tr>\n",
       "  </thead>\n",
       "  <tbody>\n",
       "    <tr>\n",
       "      <th>0</th>\n",
       "      <td>AA</td>\n",
       "      <td>Waiting acceptance into off Network Rail netwo...</td>\n",
       "      <td>WTG ACCEPT</td>\n",
       "    </tr>\n",
       "    <tr>\n",
       "      <th>1</th>\n",
       "      <td>AB</td>\n",
       "      <td>Waiting Customer Release of Documentation</td>\n",
       "      <td>DOCUMENTS</td>\n",
       "    </tr>\n",
       "    <tr>\n",
       "      <th>2</th>\n",
       "      <td>AC</td>\n",
       "      <td>Waiting Train preparation or completion of TOP...</td>\n",
       "      <td>TRAIN PREP</td>\n",
       "    </tr>\n",
       "    <tr>\n",
       "      <th>3</th>\n",
       "      <td>AD</td>\n",
       "      <td>Off Network Rail network Terminal or Yard staf...</td>\n",
       "      <td>WTG STAFF</td>\n",
       "    </tr>\n",
       "    <tr>\n",
       "      <th>4</th>\n",
       "      <td>AE</td>\n",
       "      <td>Congestion in off Network Rail network Termina...</td>\n",
       "      <td>CONGESTION</td>\n",
       "    </tr>\n",
       "  </tbody>\n",
       "</table>\n",
       "</div>"
      ],
      "text/plain": [
       "  Reactionary Reason Code                     Reactionary Reason Description  \\\n",
       "0                      AA  Waiting acceptance into off Network Rail netwo...   \n",
       "1                      AB          Waiting Customer Release of Documentation   \n",
       "2                      AC  Waiting Train preparation or completion of TOP...   \n",
       "3                      AD  Off Network Rail network Terminal or Yard staf...   \n",
       "4                      AE  Congestion in off Network Rail network Termina...   \n",
       "\n",
       "  Reactionary Reason Name  \n",
       "0              WTG ACCEPT  \n",
       "1               DOCUMENTS  \n",
       "2              TRAIN PREP  \n",
       "3               WTG STAFF  \n",
       "4              CONGESTION  "
      ]
     },
     "execution_count": 45,
     "metadata": {},
     "output_type": "execute_result"
    }
   ],
   "source": [
    "df_sheet4 = pd.read_excel('Historic-Delay-Attribution-Glossary.xlsx',engine='openpyxl', sheet_name = 4\n",
    "                          , names = [*schemas['Reactionary Reasons'].keys()]\n",
    "                          , dtype = schemas['Reactionary Reasons']\n",
    "                         , skipfooter=2)\n",
    "df_sheet4.head()"
   ]
  },
  {
   "cell_type": "code",
   "execution_count": 33,
   "metadata": {},
   "outputs": [
    {
     "name": "stdout",
     "output_type": "stream",
     "text": [
      "<class 'pandas.core.frame.DataFrame'>\n",
      "RangeIndex: 365 entries, 0 to 364\n",
      "Data columns (total 3 columns):\n",
      " #   Column                                       Non-Null Count  Dtype \n",
      "---  ------                                       --------------  ----- \n",
      " 0   Reactionary Reasons.Reactionary Reason Code  364 non-null    object\n",
      " 1   Reactionary Reason Description               365 non-null    string\n",
      " 2   Reactionary Reason Name                      365 non-null    string\n",
      "dtypes: object(1), string(2)\n",
      "memory usage: 8.7+ KB\n"
     ]
    }
   ],
   "source": [
    "df_sheet4.info()"
   ]
  },
  {
   "cell_type": "code",
   "execution_count": 46,
   "metadata": {},
   "outputs": [
    {
     "data": {
      "text/html": [
       "<div>\n",
       "<style scoped>\n",
       "    .dataframe tbody tr th:only-of-type {\n",
       "        vertical-align: middle;\n",
       "    }\n",
       "\n",
       "    .dataframe tbody tr th {\n",
       "        vertical-align: top;\n",
       "    }\n",
       "\n",
       "    .dataframe thead th {\n",
       "        text-align: right;\n",
       "    }\n",
       "</style>\n",
       "<table border=\"1\" class=\"dataframe\">\n",
       "  <thead>\n",
       "    <tr style=\"text-align: right;\">\n",
       "      <th></th>\n",
       "      <th>Performance Event Types</th>\n",
       "      <th>Performance Event Group</th>\n",
       "      <th>Performance Event Name</th>\n",
       "    </tr>\n",
       "  </thead>\n",
       "  <tbody>\n",
       "    <tr>\n",
       "      <th>0</th>\n",
       "      <td>A</td>\n",
       "      <td>DELAY REPORT</td>\n",
       "      <td>Automatic</td>\n",
       "    </tr>\n",
       "    <tr>\n",
       "      <th>1</th>\n",
       "      <td>C</td>\n",
       "      <td>CANCELLATION</td>\n",
       "      <td>Cancelled At Origin</td>\n",
       "    </tr>\n",
       "    <tr>\n",
       "      <th>2</th>\n",
       "      <td>D</td>\n",
       "      <td>CANCELLATION</td>\n",
       "      <td>Diverted</td>\n",
       "    </tr>\n",
       "    <tr>\n",
       "      <th>3</th>\n",
       "      <td>F</td>\n",
       "      <td>DELAY REPORT</td>\n",
       "      <td>Failed to Stop</td>\n",
       "    </tr>\n",
       "    <tr>\n",
       "      <th>4</th>\n",
       "      <td>M</td>\n",
       "      <td>DELAY REPORT</td>\n",
       "      <td>Manual</td>\n",
       "    </tr>\n",
       "  </tbody>\n",
       "</table>\n",
       "</div>"
      ],
      "text/plain": [
       "  Performance Event Types Performance Event Group Performance Event Name\n",
       "0                       A            DELAY REPORT              Automatic\n",
       "1                       C            CANCELLATION    Cancelled At Origin\n",
       "2                       D            CANCELLATION               Diverted\n",
       "3                       F            DELAY REPORT         Failed to Stop\n",
       "4                       M            DELAY REPORT                 Manual"
      ]
     },
     "execution_count": 46,
     "metadata": {},
     "output_type": "execute_result"
    }
   ],
   "source": [
    "df_sheet5 = pd.read_excel('Historic-Delay-Attribution-Glossary.xlsx',engine='openpyxl', sheet_name = 5\n",
    "                          , names = [*schemas['Performance Event'].keys()]\n",
    "                          , dtype = schemas['Performance Event']\n",
    "                         , skipfooter=2)\n",
    "df_sheet5.head()"
   ]
  },
  {
   "cell_type": "code",
   "execution_count": 47,
   "metadata": {},
   "outputs": [
    {
     "name": "stdout",
     "output_type": "stream",
     "text": [
      "<class 'pandas.core.frame.DataFrame'>\n",
      "RangeIndex: 8 entries, 0 to 7\n",
      "Data columns (total 3 columns):\n",
      " #   Column                   Non-Null Count  Dtype \n",
      "---  ------                   --------------  ----- \n",
      " 0   Performance Event Types  8 non-null      string\n",
      " 1   Performance Event Group  8 non-null      string\n",
      " 2   Performance Event Name   8 non-null      string\n",
      "dtypes: string(3)\n",
      "memory usage: 320.0 bytes\n"
     ]
    }
   ],
   "source": [
    "df_sheet5.info()"
   ]
  },
  {
   "cell_type": "code",
   "execution_count": 50,
   "metadata": {},
   "outputs": [
    {
     "data": {
      "text/html": [
       "<div>\n",
       "<style scoped>\n",
       "    .dataframe tbody tr th:only-of-type {\n",
       "        vertical-align: middle;\n",
       "    }\n",
       "\n",
       "    .dataframe tbody tr th {\n",
       "        vertical-align: top;\n",
       "    }\n",
       "\n",
       "    .dataframe thead th {\n",
       "        text-align: right;\n",
       "    }\n",
       "</style>\n",
       "<table border=\"1\" class=\"dataframe\">\n",
       "  <thead>\n",
       "    <tr style=\"text-align: right;\">\n",
       "      <th></th>\n",
       "      <th>Service Group Code</th>\n",
       "      <th>Service Group Description</th>\n",
       "      <th>TSC</th>\n",
       "      <th>TSC Description</th>\n",
       "    </tr>\n",
       "  </thead>\n",
       "  <tbody>\n",
       "    <tr>\n",
       "      <th>0</th>\n",
       "      <td>0003</td>\n",
       "      <td>National Adjustment Freight TOCs</td>\n",
       "      <td>12000345</td>\n",
       "      <td>National Adjustment Freight TOCs</td>\n",
       "    </tr>\n",
       "    <tr>\n",
       "      <th>1</th>\n",
       "      <td>0300</td>\n",
       "      <td>DBC UK: Royal Mail Services</td>\n",
       "      <td>56030020</td>\n",
       "      <td>DBC UK: Royal Mail Services</td>\n",
       "    </tr>\n",
       "    <tr>\n",
       "      <th>2</th>\n",
       "      <td>0300</td>\n",
       "      <td>DBC UK: Royal Mail Services</td>\n",
       "      <td>72030004</td>\n",
       "      <td>Post Office Parcels Train</td>\n",
       "    </tr>\n",
       "    <tr>\n",
       "      <th>3</th>\n",
       "      <td>0301</td>\n",
       "      <td>EWS - Parcelforce</td>\n",
       "      <td>72030104</td>\n",
       "      <td>Do Not Use Post Office Parcels Trains Scottish...</td>\n",
       "    </tr>\n",
       "    <tr>\n",
       "      <th>4</th>\n",
       "      <td>0302</td>\n",
       "      <td>DBC UK: Passenger Stock Moves</td>\n",
       "      <td>72030204</td>\n",
       "      <td>DBC UK: Passenger Stock Moves</td>\n",
       "    </tr>\n",
       "  </tbody>\n",
       "</table>\n",
       "</div>"
      ],
      "text/plain": [
       "  Service Group Code         Service Group Description       TSC  \\\n",
       "0               0003  National Adjustment Freight TOCs  12000345   \n",
       "1               0300       DBC UK: Royal Mail Services  56030020   \n",
       "2               0300       DBC UK: Royal Mail Services  72030004   \n",
       "3               0301                 EWS - Parcelforce  72030104   \n",
       "4               0302     DBC UK: Passenger Stock Moves  72030204   \n",
       "\n",
       "                                     TSC Description  \n",
       "0                   National Adjustment Freight TOCs  \n",
       "1                        DBC UK: Royal Mail Services  \n",
       "2                          Post Office Parcels Train  \n",
       "3  Do Not Use Post Office Parcels Trains Scottish...  \n",
       "4                      DBC UK: Passenger Stock Moves  "
      ]
     },
     "execution_count": 50,
     "metadata": {},
     "output_type": "execute_result"
    }
   ],
   "source": [
    "df_sheet6 = pd.read_excel('Historic-Delay-Attribution-Glossary.xlsx',engine='openpyxl', sheet_name = 6\n",
    "                          , names = [*schemas['Service Group'].keys()]\n",
    "                          , dtype = schemas['Service Group']\n",
    "                         , skipfooter=2)\n",
    "df_sheet6.head()"
   ]
  },
  {
   "cell_type": "code",
   "execution_count": 51,
   "metadata": {},
   "outputs": [
    {
     "name": "stdout",
     "output_type": "stream",
     "text": [
      "<class 'pandas.core.frame.DataFrame'>\n",
      "RangeIndex: 2811 entries, 0 to 2810\n",
      "Data columns (total 4 columns):\n",
      " #   Column                     Non-Null Count  Dtype \n",
      "---  ------                     --------------  ----- \n",
      " 0   Service Group Code         2811 non-null   string\n",
      " 1   Service Group Description  2811 non-null   string\n",
      " 2   TSC                        2811 non-null   string\n",
      " 3   TSC Description            2811 non-null   string\n",
      "dtypes: string(4)\n",
      "memory usage: 88.0 KB\n"
     ]
    }
   ],
   "source": [
    "df_sheet6.info()"
   ]
  },
  {
   "cell_type": "code",
   "execution_count": 55,
   "metadata": {},
   "outputs": [
    {
     "data": {
      "text/html": [
       "<div>\n",
       "<style scoped>\n",
       "    .dataframe tbody tr th:only-of-type {\n",
       "        vertical-align: middle;\n",
       "    }\n",
       "\n",
       "    .dataframe tbody tr th {\n",
       "        vertical-align: top;\n",
       "    }\n",
       "\n",
       "    .dataframe thead th {\n",
       "        text-align: right;\n",
       "    }\n",
       "</style>\n",
       "<table border=\"1\" class=\"dataframe\">\n",
       "  <thead>\n",
       "    <tr style=\"text-align: right;\">\n",
       "      <th></th>\n",
       "      <th>Operator Code</th>\n",
       "      <th>Operator Name</th>\n",
       "    </tr>\n",
       "  </thead>\n",
       "  <tbody>\n",
       "    <tr>\n",
       "      <th>0</th>\n",
       "      <td>D1</td>\n",
       "      <td>Freightliner Inf</td>\n",
       "    </tr>\n",
       "    <tr>\n",
       "      <th>1</th>\n",
       "      <td>D2</td>\n",
       "      <td>Freightliner HH</td>\n",
       "    </tr>\n",
       "    <tr>\n",
       "      <th>2</th>\n",
       "      <td>DB</td>\n",
       "      <td>Freightliner Intermodal</td>\n",
       "    </tr>\n",
       "    <tr>\n",
       "      <th>3</th>\n",
       "      <td>E1</td>\n",
       "      <td>GWR Charters</td>\n",
       "    </tr>\n",
       "    <tr>\n",
       "      <th>4</th>\n",
       "      <td>EA</td>\n",
       "      <td>TPE</td>\n",
       "    </tr>\n",
       "  </tbody>\n",
       "</table>\n",
       "</div>"
      ],
      "text/plain": [
       "  Operator Code            Operator Name\n",
       "0            D1         Freightliner Inf\n",
       "1            D2          Freightliner HH\n",
       "2            DB  Freightliner Intermodal\n",
       "3            E1             GWR Charters\n",
       "4            EA                      TPE"
      ]
     },
     "execution_count": 55,
     "metadata": {},
     "output_type": "execute_result"
    }
   ],
   "source": [
    "df_sheet7 = pd.read_excel('Historic-Delay-Attribution-Glossary.xlsx',engine='openpyxl', sheet_name = 7\n",
    "                          , names = [*schemas['Operator'].keys()]\n",
    "                          , dtype = schemas['Operator']\n",
    "                         , skipfooter=2)\n",
    "df_sheet7.head()"
   ]
  },
  {
   "cell_type": "code",
   "execution_count": 56,
   "metadata": {},
   "outputs": [
    {
     "name": "stdout",
     "output_type": "stream",
     "text": [
      "<class 'pandas.core.frame.DataFrame'>\n",
      "RangeIndex: 105 entries, 0 to 104\n",
      "Data columns (total 2 columns):\n",
      " #   Column         Non-Null Count  Dtype \n",
      "---  ------         --------------  ----- \n",
      " 0   Operator Code  105 non-null    string\n",
      " 1   Operator Name  105 non-null    string\n",
      "dtypes: string(2)\n",
      "memory usage: 1.8 KB\n"
     ]
    }
   ],
   "source": [
    "df_sheet7.info()"
   ]
  },
  {
   "cell_type": "code",
   "execution_count": 60,
   "metadata": {},
   "outputs": [
    {
     "data": {
      "text/html": [
       "<div>\n",
       "<style scoped>\n",
       "    .dataframe tbody tr th:only-of-type {\n",
       "        vertical-align: middle;\n",
       "    }\n",
       "\n",
       "    .dataframe tbody tr th {\n",
       "        vertical-align: top;\n",
       "    }\n",
       "\n",
       "    .dataframe thead th {\n",
       "        text-align: right;\n",
       "    }\n",
       "</style>\n",
       "<table border=\"1\" class=\"dataframe\">\n",
       "  <thead>\n",
       "    <tr style=\"text-align: right;\">\n",
       "      <th></th>\n",
       "      <th>Service Group Code</th>\n",
       "      <th>Service Group Description</th>\n",
       "      <th>Train Service Code</th>\n",
       "      <th>TSC Description</th>\n",
       "    </tr>\n",
       "  </thead>\n",
       "  <tbody>\n",
       "    <tr>\n",
       "      <th>0</th>\n",
       "      <td>0003</td>\n",
       "      <td>National Adjustment Freight TOCs</td>\n",
       "      <td>12000345</td>\n",
       "      <td>National Adjustment Freight TOCs</td>\n",
       "    </tr>\n",
       "    <tr>\n",
       "      <th>1</th>\n",
       "      <td>0300</td>\n",
       "      <td>DBC UK: Royal Mail Services</td>\n",
       "      <td>56030020</td>\n",
       "      <td>DBC UK: Royal Mail Services</td>\n",
       "    </tr>\n",
       "    <tr>\n",
       "      <th>2</th>\n",
       "      <td>0300</td>\n",
       "      <td>DBC UK: Royal Mail Services</td>\n",
       "      <td>72030004</td>\n",
       "      <td>Post Office Parcels Train</td>\n",
       "    </tr>\n",
       "    <tr>\n",
       "      <th>3</th>\n",
       "      <td>0301</td>\n",
       "      <td>EWS - Parcelforce</td>\n",
       "      <td>72030104</td>\n",
       "      <td>Do Not Use Post Office Parcels Trains Scottish...</td>\n",
       "    </tr>\n",
       "    <tr>\n",
       "      <th>4</th>\n",
       "      <td>0302</td>\n",
       "      <td>DBC UK: Passenger Stock Moves</td>\n",
       "      <td>72030204</td>\n",
       "      <td>DBC UK: Passenger Stock Moves</td>\n",
       "    </tr>\n",
       "  </tbody>\n",
       "</table>\n",
       "</div>"
      ],
      "text/plain": [
       "  Service Group Code         Service Group Description Train Service Code  \\\n",
       "0               0003  National Adjustment Freight TOCs           12000345   \n",
       "1               0300       DBC UK: Royal Mail Services           56030020   \n",
       "2               0300       DBC UK: Royal Mail Services           72030004   \n",
       "3               0301                 EWS - Parcelforce           72030104   \n",
       "4               0302     DBC UK: Passenger Stock Moves           72030204   \n",
       "\n",
       "                                     TSC Description  \n",
       "0                   National Adjustment Freight TOCs  \n",
       "1                        DBC UK: Royal Mail Services  \n",
       "2                          Post Office Parcels Train  \n",
       "3  Do Not Use Post Office Parcels Trains Scottish...  \n",
       "4                      DBC UK: Passenger Stock Moves  "
      ]
     },
     "execution_count": 60,
     "metadata": {},
     "output_type": "execute_result"
    }
   ],
   "source": [
    "df_sheet8 = pd.read_excel('Historic-Delay-Attribution-Glossary.xlsx',engine='openpyxl', sheet_name = 8\n",
    "                          , names = [*schemas['Train Service'].keys()]\n",
    "                          , dtype = schemas['Train Service']\n",
    "                         , skipfooter=2)\n",
    "df_sheet8.head()"
   ]
  },
  {
   "cell_type": "code",
   "execution_count": 61,
   "metadata": {},
   "outputs": [
    {
     "name": "stdout",
     "output_type": "stream",
     "text": [
      "<class 'pandas.core.frame.DataFrame'>\n",
      "RangeIndex: 2811 entries, 0 to 2810\n",
      "Data columns (total 4 columns):\n",
      " #   Column                     Non-Null Count  Dtype \n",
      "---  ------                     --------------  ----- \n",
      " 0   Service Group Code         2811 non-null   string\n",
      " 1   Service Group Description  2811 non-null   string\n",
      " 2   Train Service Code         2811 non-null   string\n",
      " 3   TSC Description            2811 non-null   string\n",
      "dtypes: string(4)\n",
      "memory usage: 88.0 KB\n"
     ]
    }
   ],
   "source": [
    "df_sheet8.info()"
   ]
  },
  {
   "cell_type": "code",
   "execution_count": 2,
   "metadata": {},
   "outputs": [],
   "source": [
    "dims = {\n",
    "    \"Stanox\":{\n",
    "        \"sheetNo\": 0,\n",
    "        \"schema\": {\n",
    "            \"STANOX NO\":\"string\",\n",
    "            \"FULL NAME\":\"string\", \n",
    "            \"CRS CODE\":\"string\", \n",
    "            \"Route Description\":\"string\"\n",
    "                }\n",
    "    },\n",
    "    \"Incident\":{\n",
    "        \"sheetNo\": 2,\n",
    "        \"schema\": {\n",
    "            \"Incident Category\": \"string\",\n",
    "            \"Incident Reason\": \"string\",\n",
    "            \"Incident Reason Name\": \"string\",\n",
    "            \"Incident Category Description\": \"string\",\n",
    "            \"Incident Reason Description\": \"string\",\n",
    "            \"Incident JPIP Category\": \"string\",\n",
    "            \"Incident Category Super Group Code\": \"string\"\n",
    "        }\n",
    "\n",
    "    },\n",
    "    \"Responsible Manager\": {\n",
    "        \"sheetNo\": 3,\n",
    "        \"schema\": {\n",
    "            \"Responsible Manager\": \"string\",\n",
    "            \"Responsible Manager Name\": \"string\",\n",
    "            \"Responsible Organisation\": \"string\",\n",
    "            \"Responsible Organisation Full Name\": \"string\",\n",
    "            \"Responsible Organisation Name\": \"string\",\n",
    "            \"Responsible Org NR-TOC/FOC Others\": \"string\"\n",
    "        }\n",
    "    },\n",
    "    \"Reactionary Reason\": {\n",
    "        \"sheetNo\": 4,\n",
    "        \"schema\":{\n",
    "            \"Reactionary Reason Code\" : \"string\",\n",
    "            \"Reactionary Reason Description\": \"string\",\n",
    "            \"Reactionary Reason Name\": \"string\"\n",
    "        }\n",
    "    },\n",
    "    \"Performance Event\":{\n",
    "        \"sheetNo\": 5,\n",
    "        \"schema\":{\n",
    "            \"Performance Event Types\": \"string\",\n",
    "            \"Performance Event Group\": \"string\",\n",
    "            \"Performance Event Name\": \"string\"\n",
    "        }\n",
    "    },\n",
    "    \"Service Group\": {\n",
    "        \"sheetNo\": 6,\n",
    "        \"schema\": {\n",
    "            \"Service Group Code\": \"string\",\n",
    "            \"Service Group Description\": \"string\",\n",
    "            \"Train Service Code\": \"string\",\n",
    "            \"TSC Description\": \"string\"\n",
    "        }\n",
    "    },\n",
    "    \"Operator\": {\n",
    "        \"sheetNo\":7,\n",
    "        \"schema\": {\n",
    "            \"Operator Code\": \"string\",\n",
    "            \"Operator Name\": \"string\"\n",
    "        }\n",
    "    }\n",
    "}"
   ]
  },
  {
   "cell_type": "code",
   "execution_count": 5,
   "metadata": {},
   "outputs": [
    {
     "data": {
      "text/plain": [
       "{'Operator Code': 'string', 'Operator Name': 'string'}"
      ]
     },
     "execution_count": 5,
     "metadata": {},
     "output_type": "execute_result"
    }
   ],
   "source": [
    "dims[\"Operator\"][\"schema\"]"
   ]
  },
  {
   "cell_type": "code",
   "execution_count": 8,
   "metadata": {},
   "outputs": [
    {
     "name": "stdout",
     "output_type": "stream",
     "text": [
      "Sheet 0 is Stanox \n",
      "\n",
      "Sheet Stanox has schema\n",
      " {'STANOX NO': 'string', 'FULL NAME': 'string', 'CRS CODE': 'string', 'Route Description': 'string'}\n",
      "\n",
      "Sheet 2 is Incident \n",
      "\n",
      "Sheet Incident has schema\n",
      " {'Incident Category': 'string', 'Incident Reason': 'string', 'Incident Reason Name': 'string', 'Incident Category Description': 'string', 'Incident Reason Description': 'string', 'Incident JPIP Category': 'string', 'Incident Category Super Group Code': 'string'}\n",
      "\n",
      "Sheet 3 is Responsible Manager \n",
      "\n",
      "Sheet Responsible Manager has schema\n",
      " {'Responsible Manager': 'string', 'Responsible Manager Name': 'string', 'Responsible Organisation': 'string', 'Responsible Organisation Full Name': 'string', 'Responsible Organisation Name': 'string', 'Responsible Org NR-TOC/FOC Others': 'string'}\n",
      "\n",
      "Sheet 4 is Reactionary Reason \n",
      "\n",
      "Sheet Reactionary Reason has schema\n",
      " {'Reactionary Reason Code': 'string', 'Reactionary Reason Description': 'string', 'Reactionary Reason Name': 'string'}\n",
      "\n",
      "Sheet 5 is Performance Event \n",
      "\n",
      "Sheet Performance Event has schema\n",
      " {'Performance Event Types': 'string', 'Performance Event Group': 'string', 'Performance Event Name': 'string'}\n",
      "\n",
      "Sheet 6 is Service Group \n",
      "\n",
      "Sheet Service Group has schema\n",
      " {'Service Group Code': 'string', 'Service Group Description': 'string', 'Train Service Code': 'string', 'TSC Description': 'string'}\n",
      "\n",
      "Sheet 7 is Operator \n",
      "\n",
      "Sheet Operator has schema\n",
      " {'Operator Code': 'string', 'Operator Name': 'string'}\n",
      "\n"
     ]
    }
   ],
   "source": [
    "for key in [*dims.keys()]:\n",
    "    print(f'Sheet {dims[key][\"sheetNo\"]} is {key} \\n')\n",
    "    print(f'Sheet {key} has schema\\n {dims[key][\"schema\"]}\\n')"
   ]
  },
  {
   "cell_type": "code",
   "execution_count": 9,
   "metadata": {},
   "outputs": [
    {
     "data": {
      "text/plain": [
       "16"
      ]
     },
     "execution_count": 9,
     "metadata": {},
     "output_type": "execute_result"
    }
   ],
   "source": [
    "path = './02-airflow/raw/Historic-Delay-Attribution-Glossary.xlsx'\n",
    "path.rfind('/')"
   ]
  },
  {
   "cell_type": "code",
   "execution_count": 17,
   "metadata": {},
   "outputs": [
    {
     "name": "stdout",
     "output_type": "stream",
     "text": [
      "./02-airflow/pq/STOX.parquet\n"
     ]
    }
   ],
   "source": [
    "dim_name = 'STOX'\n",
    "print(f'{path[:path.rfind(\"/\")].replace(\"raw\", \"pq\")}/{dim_name}.parquet')"
   ]
  },
  {
   "cell_type": "code",
   "execution_count": null,
   "metadata": {},
   "outputs": [],
   "source": []
  }
 ],
 "metadata": {
  "kernelspec": {
   "display_name": "Python 3",
   "language": "python",
   "name": "python3"
  },
  "language_info": {
   "codemirror_mode": {
    "name": "ipython",
    "version": 3
   },
   "file_extension": ".py",
   "mimetype": "text/x-python",
   "name": "python",
   "nbconvert_exporter": "python",
   "pygments_lexer": "ipython3",
   "version": "3.7.11"
  }
 },
 "nbformat": 4,
 "nbformat_minor": 4
}
