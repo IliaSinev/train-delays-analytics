{
 "cells": [
  {
   "cell_type": "code",
   "execution_count": 1,
   "metadata": {},
   "outputs": [],
   "source": [
    "import pandas as pd"
   ]
  },
  {
   "cell_type": "code",
   "execution_count": 7,
   "metadata": {},
   "outputs": [],
   "source": [
    "df1 = pd.read_csv('All Delays 2018-19.csv')"
   ]
  },
  {
   "cell_type": "code",
   "execution_count": 8,
   "metadata": {},
   "outputs": [
    {
     "data": {
      "text/plain": [
       "Index(['FINANCIAL_YEAR_AND_PERIOD', 'ORIGIN_DEPARTURE_DATE',\n",
       "       'TRUST_TRAIN_ID_AFFECTED', 'PLANNED_ORIG_LOC_CODE_AFF',\n",
       "       'PLANNED_ORIG_GBTT_DATETIME_AFF', 'PLANNED_ORIG_WTT_DATETIME_AFF',\n",
       "       'PLANNED_DEST_LOC_CODE_AFFECTED', 'PLANNED_DEST_GBTT_DATETIME_AFF',\n",
       "       'PLANNED_DEST_WTT_DATETIME_AFF', 'TRAIN_SERVICE_CODE_AFFECTED',\n",
       "       'SERVICE_GROUP_CODE_AFFECTED', 'OPERATOR_AFFECTED', 'ENGLISH_DAY_TYPE',\n",
       "       'APP_TIMETABLE_FLAG_AFF', 'TRAIN_SCHEDULE_TYPE_AFFECTED',\n",
       "       'TRACTION_TYPE_AFFECTED', 'TRAILING_LOAD_AFFECTED',\n",
       "       'TIMING_LOAD_AFFECTED', 'UNIT_CLASS_AFFECTED', 'INCIDENT_NUMBER',\n",
       "       'INCIDENT_CREATE_DATE', 'INCIDENT_START_DATETIME',\n",
       "       'INCIDENT_END_DATETIME', 'SECTION_CODE',\n",
       "       'NETWORK_RAIL_LOCATION_MANAGER', 'RESPONSIBLE_MANAGER',\n",
       "       'INCIDENT_REASON', 'ATTRIBUTION_STATUS', 'INCIDENT_EQUIPMENT',\n",
       "       'INCIDENT_DESCRIPTION', 'REACTIONARY_REASON_CODE',\n",
       "       'INCIDENT_RESPONSIBLE_TRAIN', 'PERFORMANCE_EVENT_CODE', 'START_STANOX',\n",
       "       'END_STANOX', 'EVENT_DATETIME', 'PFPI_MINUTES', 'TRUST_TRAIN_ID_RESP',\n",
       "       'TRUST_TRAIN_ID_REACT'],\n",
       "      dtype='object')"
      ]
     },
     "execution_count": 8,
     "metadata": {},
     "output_type": "execute_result"
    }
   ],
   "source": [
    "df1.columns"
   ]
  },
  {
   "cell_type": "code",
   "execution_count": 11,
   "metadata": {},
   "outputs": [
    {
     "data": {
      "text/html": [
       "<div>\n",
       "<style scoped>\n",
       "    .dataframe tbody tr th:only-of-type {\n",
       "        vertical-align: middle;\n",
       "    }\n",
       "\n",
       "    .dataframe tbody tr th {\n",
       "        vertical-align: top;\n",
       "    }\n",
       "\n",
       "    .dataframe thead th {\n",
       "        text-align: right;\n",
       "    }\n",
       "</style>\n",
       "<table border=\"1\" class=\"dataframe\">\n",
       "  <thead>\n",
       "    <tr style=\"text-align: right;\">\n",
       "      <th></th>\n",
       "      <th>FINANCIAL_YEAR_AND_PERIOD</th>\n",
       "      <th>ORIGIN_DEPARTURE_DATE</th>\n",
       "      <th>TRUST_TRAIN_ID_AFFECTED</th>\n",
       "      <th>PLANNED_ORIG_LOC_CODE_AFF</th>\n",
       "      <th>PLANNED_ORIG_GBTT_DATETIME_AFF</th>\n",
       "      <th>PLANNED_ORIG_WTT_DATETIME_AFF</th>\n",
       "      <th>PLANNED_DEST_LOC_CODE_AFFECTED</th>\n",
       "      <th>PLANNED_DEST_GBTT_DATETIME_AFF</th>\n",
       "      <th>PLANNED_DEST_WTT_DATETIME_AFF</th>\n",
       "      <th>TRAIN_SERVICE_CODE_AFFECTED</th>\n",
       "      <th>...</th>\n",
       "      <th>INCIDENT_DESCRIPTION</th>\n",
       "      <th>REACTIONARY_REASON_CODE</th>\n",
       "      <th>INCIDENT_RESPONSIBLE_TRAIN</th>\n",
       "      <th>PERFORMANCE_EVENT_CODE</th>\n",
       "      <th>START_STANOX</th>\n",
       "      <th>END_STANOX</th>\n",
       "      <th>EVENT_DATETIME</th>\n",
       "      <th>PFPI_MINUTES</th>\n",
       "      <th>TRUST_TRAIN_ID_RESP</th>\n",
       "      <th>TRUST_TRAIN_ID_REACT</th>\n",
       "    </tr>\n",
       "  </thead>\n",
       "  <tbody>\n",
       "    <tr>\n",
       "      <th>0</th>\n",
       "      <td>2018/19_P01</td>\n",
       "      <td>01-APR-18</td>\n",
       "      <td>011B44MN01</td>\n",
       "      <td>1100</td>\n",
       "      <td>01-APR-2018 13:30</td>\n",
       "      <td>01-APR-2018 13:30</td>\n",
       "      <td>4303</td>\n",
       "      <td>01-APR-2018 16:50</td>\n",
       "      <td>01-APR-2018 16:50</td>\n",
       "      <td>23549003.0</td>\n",
       "      <td>...</td>\n",
       "      <td>1H45 LOST PTH DLW</td>\n",
       "      <td>YE</td>\n",
       "      <td>1H45</td>\n",
       "      <td>M</td>\n",
       "      <td>1100</td>\n",
       "      <td>1144</td>\n",
       "      <td>01-APR-2018 14:12</td>\n",
       "      <td>6.0</td>\n",
       "      <td>041H45MF01</td>\n",
       "      <td>061H09MI01</td>\n",
       "    </tr>\n",
       "    <tr>\n",
       "      <th>1</th>\n",
       "      <td>2018/19_P01</td>\n",
       "      <td>01-APR-18</td>\n",
       "      <td>011E17MF01</td>\n",
       "      <td>1100</td>\n",
       "      <td>01-APR-2018 09:40</td>\n",
       "      <td>01-APR-2018 09:40</td>\n",
       "      <td>54311</td>\n",
       "      <td>01-APR-2018 17:51</td>\n",
       "      <td>01-APR-2018 17:51</td>\n",
       "      <td>21701001.0</td>\n",
       "      <td>...</td>\n",
       "      <td>YRK AU TC FLR</td>\n",
       "      <td>YP</td>\n",
       "      <td>NaN</td>\n",
       "      <td>M</td>\n",
       "      <td>16005</td>\n",
       "      <td>16421</td>\n",
       "      <td>01-APR-2018 16:02</td>\n",
       "      <td>7.0</td>\n",
       "      <td>NaN</td>\n",
       "      <td>041E97MM01</td>\n",
       "    </tr>\n",
       "    <tr>\n",
       "      <th>2</th>\n",
       "      <td>2018/19_P01</td>\n",
       "      <td>01-APR-18</td>\n",
       "      <td>011M16MZ01</td>\n",
       "      <td>1100</td>\n",
       "      <td>01-APR-2018 20:26</td>\n",
       "      <td>01-APR-2018 20:26</td>\n",
       "      <td>72410</td>\n",
       "      <td>02-APR-2018 09:17</td>\n",
       "      <td>02-APR-2018 09:15</td>\n",
       "      <td>23558003.0</td>\n",
       "      <td>...</td>\n",
       "      <td>1M11 LOSS OF POWER GLQ LNZ</td>\n",
       "      <td>YD</td>\n",
       "      <td>NaN</td>\n",
       "      <td>M</td>\n",
       "      <td>4303</td>\n",
       "      <td>4303</td>\n",
       "      <td>02-APR-2018 01:58</td>\n",
       "      <td>50.0</td>\n",
       "      <td>NaN</td>\n",
       "      <td>061M11M701</td>\n",
       "    </tr>\n",
       "    <tr>\n",
       "      <th>3</th>\n",
       "      <td>2018/19_P01</td>\n",
       "      <td>01-APR-18</td>\n",
       "      <td>011M16MZ01</td>\n",
       "      <td>1100</td>\n",
       "      <td>01-APR-2018 20:26</td>\n",
       "      <td>01-APR-2018 20:26</td>\n",
       "      <td>72410</td>\n",
       "      <td>02-APR-2018 09:17</td>\n",
       "      <td>02-APR-2018 09:15</td>\n",
       "      <td>23558003.0</td>\n",
       "      <td>...</td>\n",
       "      <td>1M16 OVERTIME NCL</td>\n",
       "      <td>NaN</td>\n",
       "      <td>1M16</td>\n",
       "      <td>M</td>\n",
       "      <td>12931</td>\n",
       "      <td>12931</td>\n",
       "      <td>02-APR-2018 03:43</td>\n",
       "      <td>3.0</td>\n",
       "      <td>011M16MZ01</td>\n",
       "      <td>NaN</td>\n",
       "    </tr>\n",
       "    <tr>\n",
       "      <th>4</th>\n",
       "      <td>2018/19_P01</td>\n",
       "      <td>01-APR-18</td>\n",
       "      <td>011T80ML01</td>\n",
       "      <td>1100</td>\n",
       "      <td>01-APR-2018 12:44</td>\n",
       "      <td>01-APR-2018 12:44</td>\n",
       "      <td>6401</td>\n",
       "      <td>01-APR-2018 15:58</td>\n",
       "      <td>01-APR-2018 15:58</td>\n",
       "      <td>23549003.0</td>\n",
       "      <td>...</td>\n",
       "      <td>1H45 LOST PTH DLW</td>\n",
       "      <td>YE</td>\n",
       "      <td>1H45</td>\n",
       "      <td>M</td>\n",
       "      <td>1100</td>\n",
       "      <td>1144</td>\n",
       "      <td>01-APR-2018 13:31</td>\n",
       "      <td>7.0</td>\n",
       "      <td>041H45MF01</td>\n",
       "      <td>041H45MF01</td>\n",
       "    </tr>\n",
       "  </tbody>\n",
       "</table>\n",
       "<p>5 rows × 39 columns</p>\n",
       "</div>"
      ],
      "text/plain": [
       "  FINANCIAL_YEAR_AND_PERIOD ORIGIN_DEPARTURE_DATE TRUST_TRAIN_ID_AFFECTED  \\\n",
       "0               2018/19_P01             01-APR-18              011B44MN01   \n",
       "1               2018/19_P01             01-APR-18              011E17MF01   \n",
       "2               2018/19_P01             01-APR-18              011M16MZ01   \n",
       "3               2018/19_P01             01-APR-18              011M16MZ01   \n",
       "4               2018/19_P01             01-APR-18              011T80ML01   \n",
       "\n",
       "   PLANNED_ORIG_LOC_CODE_AFF PLANNED_ORIG_GBTT_DATETIME_AFF  \\\n",
       "0                       1100              01-APR-2018 13:30   \n",
       "1                       1100              01-APR-2018 09:40   \n",
       "2                       1100              01-APR-2018 20:26   \n",
       "3                       1100              01-APR-2018 20:26   \n",
       "4                       1100              01-APR-2018 12:44   \n",
       "\n",
       "  PLANNED_ORIG_WTT_DATETIME_AFF  PLANNED_DEST_LOC_CODE_AFFECTED  \\\n",
       "0             01-APR-2018 13:30                            4303   \n",
       "1             01-APR-2018 09:40                           54311   \n",
       "2             01-APR-2018 20:26                           72410   \n",
       "3             01-APR-2018 20:26                           72410   \n",
       "4             01-APR-2018 12:44                            6401   \n",
       "\n",
       "  PLANNED_DEST_GBTT_DATETIME_AFF PLANNED_DEST_WTT_DATETIME_AFF  \\\n",
       "0              01-APR-2018 16:50             01-APR-2018 16:50   \n",
       "1              01-APR-2018 17:51             01-APR-2018 17:51   \n",
       "2              02-APR-2018 09:17             02-APR-2018 09:15   \n",
       "3              02-APR-2018 09:17             02-APR-2018 09:15   \n",
       "4              01-APR-2018 15:58             01-APR-2018 15:58   \n",
       "\n",
       "   TRAIN_SERVICE_CODE_AFFECTED  ...        INCIDENT_DESCRIPTION  \\\n",
       "0                   23549003.0  ...           1H45 LOST PTH DLW   \n",
       "1                   21701001.0  ...               YRK AU TC FLR   \n",
       "2                   23558003.0  ...  1M11 LOSS OF POWER GLQ LNZ   \n",
       "3                   23558003.0  ...           1M16 OVERTIME NCL   \n",
       "4                   23549003.0  ...           1H45 LOST PTH DLW   \n",
       "\n",
       "  REACTIONARY_REASON_CODE INCIDENT_RESPONSIBLE_TRAIN PERFORMANCE_EVENT_CODE  \\\n",
       "0                      YE                       1H45                      M   \n",
       "1                      YP                        NaN                      M   \n",
       "2                      YD                        NaN                      M   \n",
       "3                     NaN                       1M16                      M   \n",
       "4                      YE                       1H45                      M   \n",
       "\n",
       "  START_STANOX END_STANOX     EVENT_DATETIME PFPI_MINUTES  \\\n",
       "0         1100       1144  01-APR-2018 14:12          6.0   \n",
       "1        16005      16421  01-APR-2018 16:02          7.0   \n",
       "2         4303       4303  02-APR-2018 01:58         50.0   \n",
       "3        12931      12931  02-APR-2018 03:43          3.0   \n",
       "4         1100       1144  01-APR-2018 13:31          7.0   \n",
       "\n",
       "   TRUST_TRAIN_ID_RESP  TRUST_TRAIN_ID_REACT  \n",
       "0           041H45MF01            061H09MI01  \n",
       "1                  NaN            041E97MM01  \n",
       "2                  NaN            061M11M701  \n",
       "3           011M16MZ01                   NaN  \n",
       "4           041H45MF01            041H45MF01  \n",
       "\n",
       "[5 rows x 39 columns]"
      ]
     },
     "execution_count": 11,
     "metadata": {},
     "output_type": "execute_result"
    }
   ],
   "source": [
    "df1.head()"
   ]
  },
  {
   "cell_type": "code",
   "execution_count": 5,
   "metadata": {},
   "outputs": [],
   "source": [
    "df2 = pd.read_csv('All delays 2021-22 P10.csv')"
   ]
  },
  {
   "cell_type": "code",
   "execution_count": 6,
   "metadata": {},
   "outputs": [
    {
     "data": {
      "text/plain": [
       "(299459, 40)"
      ]
     },
     "execution_count": 6,
     "metadata": {},
     "output_type": "execute_result"
    }
   ],
   "source": [
    "df2.shape"
   ]
  },
  {
   "cell_type": "code",
   "execution_count": 9,
   "metadata": {},
   "outputs": [
    {
     "name": "stdout",
     "output_type": "stream",
     "text": [
      "Columns in 18-19: Index(['FINANCIAL_YEAR_AND_PERIOD', 'ORIGIN_DEPARTURE_DATE',\n",
      "       'TRUST_TRAIN_ID_AFFECTED', 'PLANNED_ORIG_LOC_CODE_AFF',\n",
      "       'PLANNED_ORIG_GBTT_DATETIME_AFF', 'PLANNED_ORIG_WTT_DATETIME_AFF',\n",
      "       'PLANNED_DEST_LOC_CODE_AFFECTED', 'PLANNED_DEST_GBTT_DATETIME_AFF',\n",
      "       'PLANNED_DEST_WTT_DATETIME_AFF', 'TRAIN_SERVICE_CODE_AFFECTED',\n",
      "       'SERVICE_GROUP_CODE_AFFECTED', 'OPERATOR_AFFECTED', 'ENGLISH_DAY_TYPE',\n",
      "       'APP_TIMETABLE_FLAG_AFF', 'TRAIN_SCHEDULE_TYPE_AFFECTED',\n",
      "       'TRACTION_TYPE_AFFECTED', 'TRAILING_LOAD_AFFECTED',\n",
      "       'TIMING_LOAD_AFFECTED', 'UNIT_CLASS_AFFECTED', 'INCIDENT_NUMBER',\n",
      "       'INCIDENT_CREATE_DATE', 'INCIDENT_START_DATETIME',\n",
      "       'INCIDENT_END_DATETIME', 'SECTION_CODE',\n",
      "       'NETWORK_RAIL_LOCATION_MANAGER', 'RESPONSIBLE_MANAGER',\n",
      "       'INCIDENT_REASON', 'ATTRIBUTION_STATUS', 'INCIDENT_EQUIPMENT',\n",
      "       'INCIDENT_DESCRIPTION', 'REACTIONARY_REASON_CODE',\n",
      "       'INCIDENT_RESPONSIBLE_TRAIN', 'PERFORMANCE_EVENT_CODE', 'START_STANOX',\n",
      "       'END_STANOX', 'EVENT_DATETIME', 'PFPI_MINUTES', 'TRUST_TRAIN_ID_RESP',\n",
      "       'TRUST_TRAIN_ID_REACT'],\n",
      "      dtype='object') /n Columns in 21-22: Index(['FINANCIAL_YEAR_PERIOD', 'ORIGIN_DEPARTURE_DATE', 'TRUST_TRAIN_ID',\n",
      "       'PLANNED_ORIGIN_LOCATION_CODE', 'PLANNED_ORIGIN_WTT_DATETIME',\n",
      "       'PLANNED_ORIGIN_GBTT_DATETIME', 'PLANNED_DEST_LOCATION_CODE',\n",
      "       'PLANNED_DEST_WTT_DATETIME', 'PLANNED_DEST_GBTT_DATETIME',\n",
      "       'TRAIN_SERVICE_CODE', 'SERVICE_GROUP_CODE', 'TOC_CODE',\n",
      "       'ENGLISH_DAY_TYPE', 'APPLICABLE_TIMETABLE_FLAG', 'TRAIN_SCHEDULE_TYPE',\n",
      "       'TRACTION_TYPE', 'TRAILING_LOAD', 'TIMING_LOAD', 'UNIT_CLASS',\n",
      "       'INCIDENT_NUMBER', 'INCIDENT_CREATE_DATE', 'INCIDENT_START_DATETIME',\n",
      "       'INCIDENT_END_DATETIME', 'SECTION_CODE', 'NR_LOCATION_MANAGER',\n",
      "       'RESPONSIBLE_MANAGER', 'INCIDENT_REASON', 'ATTRIBUTION_STATUS',\n",
      "       'INCIDENT_EQUIPMENT', 'INCIDENT_DESCRIPTION', 'REACT_REASON',\n",
      "       'INCIDENT_RESP_TRAIN', 'RESP_TRAIN', 'REACT_TRAIN', 'EVENT_TYPE',\n",
      "       'START_STANOX', 'END_STANOX', 'EVENT_DATETIME', 'PFPI_MINUTES',\n",
      "       'NON_PFPI_MINUTES'],\n",
      "      dtype='object')\n"
     ]
    }
   ],
   "source": [
    "print(f'Columns in 18-19: {df1.columns} /n Columns in 21-22: {df2.columns}')"
   ]
  },
  {
   "cell_type": "code",
   "execution_count": 10,
   "metadata": {},
   "outputs": [],
   "source": [
    "df = df1.append(df1, ignore_index=True)"
   ]
  },
  {
   "cell_type": "code",
   "execution_count": 11,
   "metadata": {},
   "outputs": [
    {
     "data": {
      "text/plain": [
       "(980636, 39)"
      ]
     },
     "execution_count": 11,
     "metadata": {},
     "output_type": "execute_result"
    }
   ],
   "source": [
    "df.shape"
   ]
  },
  {
   "cell_type": "code",
   "execution_count": 13,
   "metadata": {},
   "outputs": [
    {
     "name": "stdout",
     "output_type": "stream",
     "text": [
      "<class 'pandas.core.frame.DataFrame'>\n",
      "RangeIndex: 490318 entries, 0 to 490317\n",
      "Data columns (total 39 columns):\n",
      " #   Column                          Non-Null Count   Dtype  \n",
      "---  ------                          --------------   -----  \n",
      " 0   FINANCIAL_YEAR_AND_PERIOD       490318 non-null  object \n",
      " 1   ORIGIN_DEPARTURE_DATE           490318 non-null  object \n",
      " 2   TRUST_TRAIN_ID_AFFECTED         490318 non-null  object \n",
      " 3   PLANNED_ORIG_LOC_CODE_AFF       490318 non-null  int64  \n",
      " 4   PLANNED_ORIG_GBTT_DATETIME_AFF  366415 non-null  object \n",
      " 5   PLANNED_ORIG_WTT_DATETIME_AFF   490318 non-null  object \n",
      " 6   PLANNED_DEST_LOC_CODE_AFFECTED  490318 non-null  int64  \n",
      " 7   PLANNED_DEST_GBTT_DATETIME_AFF  366415 non-null  object \n",
      " 8   PLANNED_DEST_WTT_DATETIME_AFF   490318 non-null  object \n",
      " 9   TRAIN_SERVICE_CODE_AFFECTED     490291 non-null  float64\n",
      " 10  SERVICE_GROUP_CODE_AFFECTED     490291 non-null  object \n",
      " 11  OPERATOR_AFFECTED               490291 non-null  object \n",
      " 12  ENGLISH_DAY_TYPE                490318 non-null  object \n",
      " 13  APP_TIMETABLE_FLAG_AFF          490318 non-null  object \n",
      " 14  TRAIN_SCHEDULE_TYPE_AFFECTED    490318 non-null  object \n",
      " 15  TRACTION_TYPE_AFFECTED          485188 non-null  object \n",
      " 16  TRAILING_LOAD_AFFECTED          56039 non-null   float64\n",
      " 17  TIMING_LOAD_AFFECTED            132349 non-null  object \n",
      " 18  UNIT_CLASS_AFFECTED             89026 non-null   float64\n",
      " 19  INCIDENT_NUMBER                 490318 non-null  int64  \n",
      " 20  INCIDENT_CREATE_DATE            490318 non-null  object \n",
      " 21  INCIDENT_START_DATETIME         490318 non-null  object \n",
      " 22  INCIDENT_END_DATETIME           490318 non-null  object \n",
      " 23  SECTION_CODE                    490318 non-null  object \n",
      " 24  NETWORK_RAIL_LOCATION_MANAGER   490318 non-null  object \n",
      " 25  RESPONSIBLE_MANAGER             490318 non-null  object \n",
      " 26  INCIDENT_REASON                 489939 non-null  object \n",
      " 27  ATTRIBUTION_STATUS              490318 non-null  object \n",
      " 28  INCIDENT_EQUIPMENT              247771 non-null  object \n",
      " 29  INCIDENT_DESCRIPTION            490318 non-null  object \n",
      " 30  REACTIONARY_REASON_CODE         300008 non-null  object \n",
      " 31  INCIDENT_RESPONSIBLE_TRAIN      224342 non-null  object \n",
      " 32  PERFORMANCE_EVENT_CODE          490318 non-null  object \n",
      " 33  START_STANOX                    490318 non-null  int64  \n",
      " 34  END_STANOX                      490318 non-null  int64  \n",
      " 35  EVENT_DATETIME                  490318 non-null  object \n",
      " 36  PFPI_MINUTES                    490318 non-null  float64\n",
      " 37  TRUST_TRAIN_ID_RESP             209564 non-null  object \n",
      " 38  TRUST_TRAIN_ID_REACT            207675 non-null  object \n",
      "dtypes: float64(4), int64(5), object(30)\n",
      "memory usage: 145.9+ MB\n"
     ]
    }
   ],
   "source": [
    "df1.info()"
   ]
  },
  {
   "cell_type": "code",
   "execution_count": 72,
   "metadata": {},
   "outputs": [],
   "source": [
    "df_source = pd.read_csv('source_files.csv', sep=';', dtype={'date': str, 'URL': str })"
   ]
  },
  {
   "cell_type": "code",
   "execution_count": 73,
   "metadata": {},
   "outputs": [
    {
     "data": {
      "text/html": [
       "<div>\n",
       "<style scoped>\n",
       "    .dataframe tbody tr th:only-of-type {\n",
       "        vertical-align: middle;\n",
       "    }\n",
       "\n",
       "    .dataframe tbody tr th {\n",
       "        vertical-align: top;\n",
       "    }\n",
       "\n",
       "    .dataframe thead th {\n",
       "        text-align: right;\n",
       "    }\n",
       "</style>\n",
       "<table border=\"1\" class=\"dataframe\">\n",
       "  <thead>\n",
       "    <tr style=\"text-align: right;\">\n",
       "      <th></th>\n",
       "      <th>date</th>\n",
       "      <th>URL</th>\n",
       "    </tr>\n",
       "  </thead>\n",
       "  <tbody>\n",
       "    <tr>\n",
       "      <th>0</th>\n",
       "      <td>201801</td>\n",
       "      <td>https://sacuksprodnrdigital0001.blob.core.wind...</td>\n",
       "    </tr>\n",
       "    <tr>\n",
       "      <th>1</th>\n",
       "      <td>201802</td>\n",
       "      <td>https://sacuksprodnrdigital0001.blob.core.wind...</td>\n",
       "    </tr>\n",
       "    <tr>\n",
       "      <th>2</th>\n",
       "      <td>201803</td>\n",
       "      <td>https://sacuksprodnrdigital0001.blob.core.wind...</td>\n",
       "    </tr>\n",
       "  </tbody>\n",
       "</table>\n",
       "</div>"
      ],
      "text/plain": [
       "     date                                                URL\n",
       "0  201801  https://sacuksprodnrdigital0001.blob.core.wind...\n",
       "1  201802  https://sacuksprodnrdigital0001.blob.core.wind...\n",
       "2  201803  https://sacuksprodnrdigital0001.blob.core.wind..."
      ]
     },
     "execution_count": 73,
     "metadata": {},
     "output_type": "execute_result"
    }
   ],
   "source": [
    "df_source.head()"
   ]
  },
  {
   "cell_type": "code",
   "execution_count": 6,
   "metadata": {},
   "outputs": [],
   "source": [
    "from datetime import datetime"
   ]
  },
  {
   "cell_type": "code",
   "execution_count": 75,
   "metadata": {},
   "outputs": [
    {
     "name": "stdout",
     "output_type": "stream",
     "text": [
      "201801\n"
     ]
    }
   ],
   "source": [
    "date = datetime(2018,1,1)\n",
    "calmonth = date.strftime(\"%Y%m\")\n",
    "print(calmonth)"
   ]
  },
  {
   "cell_type": "code",
   "execution_count": 83,
   "metadata": {},
   "outputs": [
    {
     "data": {
      "text/plain": [
       "'https://sacuksprodnrdigital0001.blob.core.windows.net/historic-delay-attribution/2018-19/All-Delays-2018-19-P01.zip'"
      ]
     },
     "execution_count": 83,
     "metadata": {},
     "output_type": "execute_result"
    }
   ],
   "source": [
    "df_source['URL'][df_source.date == calmonth].to_list()[0]"
   ]
  },
  {
   "cell_type": "code",
   "execution_count": 20,
   "metadata": {},
   "outputs": [],
   "source": [
    "df_stanox = pd.read_excel('Historic-Delay-Attribution-Glossary.xlsx', sheet_name = 0)\n",
    "#                           , \\\n",
    "#                           dtype = {'STANOX NO.':'Int32', 'FULL NAME':object, 'CRS CODE':object, 'Route Description':object})\n"
   ]
  },
  {
   "cell_type": "code",
   "execution_count": 17,
   "metadata": {},
   "outputs": [
    {
     "data": {
      "text/plain": [
       "Index(['STANOX NO.', 'FULL NAME', 'CRS CODE', 'Route Description'], dtype='object')"
      ]
     },
     "execution_count": 17,
     "metadata": {},
     "output_type": "execute_result"
    }
   ],
   "source": [
    "df_stanox.columns"
   ]
  },
  {
   "cell_type": "code",
   "execution_count": 21,
   "metadata": {},
   "outputs": [
    {
     "data": {
      "text/plain": [
       "STANOX NO.           float64\n",
       "FULL NAME             object\n",
       "CRS CODE              object\n",
       "Route Description     object\n",
       "dtype: object"
      ]
     },
     "execution_count": 21,
     "metadata": {},
     "output_type": "execute_result"
    }
   ],
   "source": [
    "df_stanox.dtypes"
   ]
  },
  {
   "cell_type": "code",
   "execution_count": 23,
   "metadata": {},
   "outputs": [
    {
     "data": {
      "text/plain": [
       "LONDON VICTORIA              5791\n",
       "GATWICK AIRPORT              4593\n",
       "PRESTON                      4202\n",
       "LONDON BRIDGE                3932\n",
       "LONDON WATERLOO              3892\n",
       "                             ... \n",
       "WATERBEACH                      1\n",
       "FAREHAM NORTH JN                1\n",
       "COLCHESTER RECEPTION LINE       1\n",
       "COTON HILL TC GBRF              1\n",
       "PONTLOTTYN                      1\n",
       "Name: FULL NAME, Length: 3490, dtype: int64"
      ]
     },
     "execution_count": 23,
     "metadata": {},
     "output_type": "execute_result"
    }
   ],
   "source": [
    "pd.merge(df1, df_stanox, how='left', left_on = 'START_STANOX', right_on='STANOX NO.')['FULL NAME'].value_counts()"
   ]
  },
  {
   "cell_type": "code",
   "execution_count": null,
   "metadata": {},
   "outputs": [],
   "source": []
  }
 ],
 "metadata": {
  "kernelspec": {
   "display_name": "Python 3",
   "language": "python",
   "name": "python3"
  },
  "language_info": {
   "codemirror_mode": {
    "name": "ipython",
    "version": 3
   },
   "file_extension": ".py",
   "mimetype": "text/x-python",
   "name": "python",
   "nbconvert_exporter": "python",
   "pygments_lexer": "ipython3",
   "version": "3.7.11"
  }
 },
 "nbformat": 4,
 "nbformat_minor": 4
}
